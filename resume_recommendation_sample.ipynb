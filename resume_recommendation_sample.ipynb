{
 "cells": [
  {
   "cell_type": "code",
   "execution_count": 1,
   "metadata": {},
   "outputs": [
    {
     "name": "stderr",
     "output_type": "stream",
     "text": [
      "\n",
      "Bad key \"text.kerning_factor\" on line 4 in\n",
      "C:\\Users\\Atul\\anaconda3\\lib\\site-packages\\matplotlib\\mpl-data\\stylelib\\_classic_test_patch.mplstyle.\n",
      "You probably need to get an updated matplotlibrc file from\n",
      "https://github.com/matplotlib/matplotlib/blob/v3.1.3/matplotlibrc.template\n",
      "or from the matplotlib source distribution\n"
     ]
    }
   ],
   "source": [
    "#importing libraries\n",
    "\n",
    "import pandas as pd\n",
    "import matplotlib.pyplot as plt\n",
    "import numpy as np\n",
    "import seaborn as sns\n",
    "import neattext.functions as nfx\n",
    "from sklearn.feature_extraction.text import CountVectorizer,TfidfVectorizer\n",
    "from sklearn.metrics.pairwise import cosine_similarity,linear_kernel\n",
    "from collections import Counter"
   ]
  },
  {
   "cell_type": "code",
   "execution_count": 28,
   "metadata": {},
   "outputs": [],
   "source": [
    "#loading dataset\n",
    "df=pd.read_csv('Resume_Dataset_Sample.csv')"
   ]
  },
  {
   "cell_type": "code",
   "execution_count": 29,
   "metadata": {},
   "outputs": [
    {
     "data": {
      "text/html": [
       "<div>\n",
       "<style scoped>\n",
       "    .dataframe tbody tr th:only-of-type {\n",
       "        vertical-align: middle;\n",
       "    }\n",
       "\n",
       "    .dataframe tbody tr th {\n",
       "        vertical-align: top;\n",
       "    }\n",
       "\n",
       "    .dataframe thead th {\n",
       "        text-align: right;\n",
       "    }\n",
       "</style>\n",
       "<table border=\"1\" class=\"dataframe\">\n",
       "  <thead>\n",
       "    <tr style=\"text-align: right;\">\n",
       "      <th></th>\n",
       "      <th>Unnamed: 0</th>\n",
       "      <th>filename</th>\n",
       "      <th>resume</th>\n",
       "    </tr>\n",
       "  </thead>\n",
       "  <tbody>\n",
       "    <tr>\n",
       "      <th>0</th>\n",
       "      <td>0</td>\n",
       "      <td>DanahNielsen_26409</td>\n",
       "      <td>danah nielsen hostess  albuquerque  nm    seek...</td>\n",
       "    </tr>\n",
       "    <tr>\n",
       "      <th>1</th>\n",
       "      <td>1</td>\n",
       "      <td>ChristopherBrown_30650</td>\n",
       "      <td>christopher brown  west memphis  ar    to obta...</td>\n",
       "    </tr>\n",
       "    <tr>\n",
       "      <th>2</th>\n",
       "      <td>2</td>\n",
       "      <td>MinnesotaStateParksWorkerSecurityRangerSeasona...</td>\n",
       "      <td>minnesota state parks worker   security ranger...</td>\n",
       "    </tr>\n",
       "    <tr>\n",
       "      <th>3</th>\n",
       "      <td>3</td>\n",
       "      <td>NaveenNetDeveloper_46188</td>\n",
       "      <td>naveen  net developer java developer   bcbsm  ...</td>\n",
       "    </tr>\n",
       "    <tr>\n",
       "      <th>4</th>\n",
       "      <td>4</td>\n",
       "      <td>TimSchannauer_22646</td>\n",
       "      <td>tim schannauer electrician helper lane valente...</td>\n",
       "    </tr>\n",
       "  </tbody>\n",
       "</table>\n",
       "</div>"
      ],
      "text/plain": [
       "   Unnamed: 0                                           filename  \\\n",
       "0           0                                 DanahNielsen_26409   \n",
       "1           1                             ChristopherBrown_30650   \n",
       "2           2  MinnesotaStateParksWorkerSecurityRangerSeasona...   \n",
       "3           3                           NaveenNetDeveloper_46188   \n",
       "4           4                                TimSchannauer_22646   \n",
       "\n",
       "                                              resume  \n",
       "0  danah nielsen hostess  albuquerque  nm    seek...  \n",
       "1  christopher brown  west memphis  ar    to obta...  \n",
       "2  minnesota state parks worker   security ranger...  \n",
       "3  naveen  net developer java developer   bcbsm  ...  \n",
       "4  tim schannauer electrician helper lane valente...  "
      ]
     },
     "execution_count": 29,
     "metadata": {},
     "output_type": "execute_result"
    }
   ],
   "source": [
    "df.head()"
   ]
  },
  {
   "cell_type": "code",
   "execution_count": 30,
   "metadata": {},
   "outputs": [],
   "source": [
    "df['resume'] = df['resume'].str.replace('()','').str.replace('-','').str.replace('.','')"
   ]
  },
  {
   "cell_type": "code",
   "execution_count": 31,
   "metadata": {},
   "outputs": [],
   "source": [
    "df['resume'] = df['resume'].str.lower()"
   ]
  },
  {
   "cell_type": "code",
   "execution_count": 32,
   "metadata": {},
   "outputs": [
    {
     "data": {
      "text/html": [
       "<div>\n",
       "<style scoped>\n",
       "    .dataframe tbody tr th:only-of-type {\n",
       "        vertical-align: middle;\n",
       "    }\n",
       "\n",
       "    .dataframe tbody tr th {\n",
       "        vertical-align: top;\n",
       "    }\n",
       "\n",
       "    .dataframe thead th {\n",
       "        text-align: right;\n",
       "    }\n",
       "</style>\n",
       "<table border=\"1\" class=\"dataframe\">\n",
       "  <thead>\n",
       "    <tr style=\"text-align: right;\">\n",
       "      <th></th>\n",
       "      <th>Unnamed: 0</th>\n",
       "      <th>filename</th>\n",
       "      <th>resume</th>\n",
       "    </tr>\n",
       "  </thead>\n",
       "  <tbody>\n",
       "    <tr>\n",
       "      <th>0</th>\n",
       "      <td>0</td>\n",
       "      <td>DanahNielsen_26409</td>\n",
       "      <td>danah nielsen hostess  albuquerque  nm    seek...</td>\n",
       "    </tr>\n",
       "    <tr>\n",
       "      <th>1</th>\n",
       "      <td>1</td>\n",
       "      <td>ChristopherBrown_30650</td>\n",
       "      <td>christopher brown  west memphis  ar    to obta...</td>\n",
       "    </tr>\n",
       "    <tr>\n",
       "      <th>2</th>\n",
       "      <td>2</td>\n",
       "      <td>MinnesotaStateParksWorkerSecurityRangerSeasona...</td>\n",
       "      <td>minnesota state parks worker   security ranger...</td>\n",
       "    </tr>\n",
       "    <tr>\n",
       "      <th>3</th>\n",
       "      <td>3</td>\n",
       "      <td>NaveenNetDeveloper_46188</td>\n",
       "      <td>naveen  net developer java developer   bcbsm  ...</td>\n",
       "    </tr>\n",
       "    <tr>\n",
       "      <th>4</th>\n",
       "      <td>4</td>\n",
       "      <td>TimSchannauer_22646</td>\n",
       "      <td>tim schannauer electrician helper lane valente...</td>\n",
       "    </tr>\n",
       "  </tbody>\n",
       "</table>\n",
       "</div>"
      ],
      "text/plain": [
       "   Unnamed: 0                                           filename  \\\n",
       "0           0                                 DanahNielsen_26409   \n",
       "1           1                             ChristopherBrown_30650   \n",
       "2           2  MinnesotaStateParksWorkerSecurityRangerSeasona...   \n",
       "3           3                           NaveenNetDeveloper_46188   \n",
       "4           4                                TimSchannauer_22646   \n",
       "\n",
       "                                              resume  \n",
       "0  danah nielsen hostess  albuquerque  nm    seek...  \n",
       "1  christopher brown  west memphis  ar    to obta...  \n",
       "2  minnesota state parks worker   security ranger...  \n",
       "3  naveen  net developer java developer   bcbsm  ...  \n",
       "4  tim schannauer electrician helper lane valente...  "
      ]
     },
     "execution_count": 32,
     "metadata": {},
     "output_type": "execute_result"
    }
   ],
   "source": [
    "df.head()"
   ]
  },
  {
   "cell_type": "code",
   "execution_count": 33,
   "metadata": {},
   "outputs": [],
   "source": [
    "df['resume'] = df['resume'].map(str)"
   ]
  },
  {
   "cell_type": "code",
   "execution_count": 34,
   "metadata": {},
   "outputs": [],
   "source": [
    "df['resume'] = df['resume'].apply(nfx.remove_numbers).apply(nfx.remove_stopwords).apply(nfx.remove_special_characters)"
   ]
  },
  {
   "cell_type": "code",
   "execution_count": 35,
   "metadata": {},
   "outputs": [
    {
     "name": "stderr",
     "output_type": "stream",
     "text": [
      "[nltk_data] Downloading package punkt to\n",
      "[nltk_data]     C:\\Users\\Atul\\AppData\\Roaming\\nltk_data...\n",
      "[nltk_data]   Package punkt is already up-to-date!\n",
      "[nltk_data] Downloading package averaged_perceptron_tagger to\n",
      "[nltk_data]     C:\\Users\\Atul\\AppData\\Roaming\\nltk_data...\n",
      "[nltk_data]   Package averaged_perceptron_tagger is already up-to-\n",
      "[nltk_data]       date!\n",
      "[nltk_data] Downloading package wordnet to\n",
      "[nltk_data]     C:\\Users\\Atul\\AppData\\Roaming\\nltk_data...\n",
      "[nltk_data]   Package wordnet is already up-to-date!\n",
      "[nltk_data] Downloading package stopwords to\n",
      "[nltk_data]     C:\\Users\\Atul\\AppData\\Roaming\\nltk_data...\n",
      "[nltk_data]   Package stopwords is already up-to-date!\n"
     ]
    }
   ],
   "source": [
    "import nltk \n",
    "nltk.download('punkt') \n",
    "nltk.download('averaged_perceptron_tagger') \n",
    "nltk.download('wordnet') \n",
    "  \n",
    "  \n",
    "from nltk.stem import WordNetLemmatizer \n",
    "lemmatizer = WordNetLemmatizer() \n",
    "  \n",
    "from nltk.corpus import stopwords \n",
    "nltk.download('stopwords') \n",
    "stop_words = set(stopwords.words('english')) \n",
    "  \n",
    "VERB_CODES = {'VB', 'VBD', 'VBG', 'VBN', 'VBP', 'VBZ'} "
   ]
  },
  {
   "cell_type": "code",
   "execution_count": 36,
   "metadata": {},
   "outputs": [
    {
     "data": {
      "text/plain": [
       "'danah nielsen hostess albuquerque nm seeking position challenge provide ongoing experiences organization utilizing skills assisting development additional skills professional advancement work experience hostess hop august greeted customers monitored open dining sections cleaned tables managed guest waiting list answering telephone booking reservations center representative september march received inbound calls assist customers problems found resolutions ensure customer satisfaction outbound calls provide customer satisfaction service purchases provided prompt customer service follow appointments necessary server kelly brew pub august september took orders efficiently served food drinks removed dinnerware table responsibly served alcohol state local requirements managed money transactions appropriately completed opening closing procedures dictated establishment time sheet auditor consumer direct personal care october july audited timesheets submitted caregivers ensure completeness accuracy hours documented daily submission forms payroll computer time paycheck distribution deadline met maintained caregiver files updated company database changes e caregiver demographics worked receptionist needed education central new mexico community college high school diploma sandia high school additional information skills proven customer service skills works team player proficient aspects operating cash register money managing experienced microsoft excel outlook word'"
      ]
     },
     "execution_count": 36,
     "metadata": {},
     "output_type": "execute_result"
    }
   ],
   "source": [
    "len(df) \n",
    "  \n",
    "finaldata = df[[\"filename\", \"resume\"]]          # Required columns - Title and combined data  \n",
    "finaldata = finaldata.set_index('filename')    # Setting the job title title as index \n",
    "  \n",
    "finaldata.head(10) \n",
    "finaldata[\"resume\"][0] "
   ]
  },
  {
   "cell_type": "code",
   "execution_count": 37,
   "metadata": {},
   "outputs": [
    {
     "data": {
      "text/plain": [
       "(571, 1)"
      ]
     },
     "execution_count": 37,
     "metadata": {},
     "output_type": "execute_result"
    }
   ],
   "source": [
    "finaldata.shape"
   ]
  },
  {
   "cell_type": "code",
   "execution_count": 38,
   "metadata": {},
   "outputs": [
    {
     "data": {
      "text/html": [
       "<div>\n",
       "<style scoped>\n",
       "    .dataframe tbody tr th:only-of-type {\n",
       "        vertical-align: middle;\n",
       "    }\n",
       "\n",
       "    .dataframe tbody tr th {\n",
       "        vertical-align: top;\n",
       "    }\n",
       "\n",
       "    .dataframe thead th {\n",
       "        text-align: right;\n",
       "    }\n",
       "</style>\n",
       "<table border=\"1\" class=\"dataframe\">\n",
       "  <thead>\n",
       "    <tr style=\"text-align: right;\">\n",
       "      <th></th>\n",
       "      <th>resume</th>\n",
       "      <th>resume_processed</th>\n",
       "    </tr>\n",
       "    <tr>\n",
       "      <th>filename</th>\n",
       "      <th></th>\n",
       "      <th></th>\n",
       "    </tr>\n",
       "  </thead>\n",
       "  <tbody>\n",
       "    <tr>\n",
       "      <th>DanahNielsen_26409</th>\n",
       "      <td>danah nielsen hostess albuquerque nm seeking p...</td>\n",
       "      <td>danah nielsen hostess albuquerque nm seek posi...</td>\n",
       "    </tr>\n",
       "    <tr>\n",
       "      <th>ChristopherBrown_30650</th>\n",
       "      <td>christopher brown west memphis ar obtain posit...</td>\n",
       "      <td>christopher brown west memphis ar obtain posit...</td>\n",
       "    </tr>\n",
       "    <tr>\n",
       "      <th>MinnesotaStateParksWorkerSecurityRangerSeasonalParttime_32908</th>\n",
       "      <td>minnesota state parks worker security ranger s...</td>\n",
       "      <td>minnesota state park worker security ranger se...</td>\n",
       "    </tr>\n",
       "    <tr>\n",
       "      <th>NaveenNetDeveloper_46188</th>\n",
       "      <td>naveen net developer java developer bcbsm mi d...</td>\n",
       "      <td>naveen net developer java developer bcbsm mi d...</td>\n",
       "    </tr>\n",
       "    <tr>\n",
       "      <th>TimSchannauer_22646</th>\n",
       "      <td>tim schannauer electrician helper lane valente...</td>\n",
       "      <td>tim schannauer electrician helper lane valente...</td>\n",
       "    </tr>\n",
       "  </tbody>\n",
       "</table>\n",
       "</div>"
      ],
      "text/plain": [
       "                                                                                               resume  \\\n",
       "filename                                                                                                \n",
       "DanahNielsen_26409                                  danah nielsen hostess albuquerque nm seeking p...   \n",
       "ChristopherBrown_30650                              christopher brown west memphis ar obtain posit...   \n",
       "MinnesotaStateParksWorkerSecurityRangerSeasonal...  minnesota state parks worker security ranger s...   \n",
       "NaveenNetDeveloper_46188                            naveen net developer java developer bcbsm mi d...   \n",
       "TimSchannauer_22646                                 tim schannauer electrician helper lane valente...   \n",
       "\n",
       "                                                                                     resume_processed  \n",
       "filename                                                                                               \n",
       "DanahNielsen_26409                                  danah nielsen hostess albuquerque nm seek posi...  \n",
       "ChristopherBrown_30650                              christopher brown west memphis ar obtain posit...  \n",
       "MinnesotaStateParksWorkerSecurityRangerSeasonal...  minnesota state park worker security ranger se...  \n",
       "NaveenNetDeveloper_46188                            naveen net developer java developer bcbsm mi d...  \n",
       "TimSchannauer_22646                                 tim schannauer electrician helper lane valente...  "
      ]
     },
     "execution_count": 38,
     "metadata": {},
     "output_type": "execute_result"
    }
   ],
   "source": [
    "#takes few mins\n",
    "def preprocess_sentences(text): \n",
    "  text = text.lower() \n",
    "  temp_sent =[] \n",
    "  words = nltk.word_tokenize(text) \n",
    "  tags = nltk.pos_tag(words) \n",
    "  for i, word in enumerate(words): \n",
    "      if tags[i][1] in VERB_CODES:  \n",
    "          lemmatized = lemmatizer.lemmatize(word, 'v') \n",
    "      else: \n",
    "          lemmatized = lemmatizer.lemmatize(word) \n",
    "      if lemmatized not in stop_words and lemmatized.isalpha(): \n",
    "          temp_sent.append(lemmatized) \n",
    "          \n",
    "  finalsent = ' '.join(temp_sent) \n",
    "  finalsent = finalsent.replace(\"n't\", \" not\") \n",
    "  finalsent = finalsent.replace(\"'m\", \" am\") \n",
    "  finalsent = finalsent.replace(\"'s\", \" is\") \n",
    "  finalsent = finalsent.replace(\"'re\", \" are\") \n",
    "  finalsent = finalsent.replace(\"'ll\", \" will\") \n",
    "  finalsent = finalsent.replace(\"'ve\", \" have\") \n",
    "  finalsent = finalsent.replace(\"'d\", \" would\") \n",
    "  return finalsent \n",
    "  \n",
    "finaldata[\"resume_processed\"]= finaldata[\"resume\"].apply(preprocess_sentences) \n",
    "finaldata.head() "
   ]
  },
  {
   "cell_type": "code",
   "execution_count": null,
   "metadata": {},
   "outputs": [],
   "source": [
    "#we can use this according to data that how much clean final data is\n",
    "#import re\n",
    "#remove_less = lambda x: re.sub(r'\\b\\w{​​1,4}​​\\b', '', x)\n",
    "#finaldata[\"resume_processed\"]= finaldata[\"resume\"].apply(remove_less)"
   ]
  },
  {
   "cell_type": "code",
   "execution_count": 39,
   "metadata": {},
   "outputs": [],
   "source": [
    "from sklearn.feature_extraction.text import TfidfVectorizer \n",
    "  \n",
    "# Vectorizing pre-processed combo using TF-IDF \n",
    "tfidfvec = TfidfVectorizer() \n",
    "tfidf_resume = tfidfvec.fit_transform((finaldata[\"resume_processed\"])) "
   ]
  },
  {
   "cell_type": "code",
   "execution_count": 40,
   "metadata": {},
   "outputs": [
    {
     "data": {
      "text/plain": [
       "TfidfVectorizer(analyzer='word', binary=False, decode_error='strict',\n",
       "                dtype=<class 'numpy.float64'>, encoding='utf-8',\n",
       "                input='content', lowercase=True, max_df=1.0, max_features=None,\n",
       "                min_df=1, ngram_range=(1, 1), norm='l2', preprocessor=None,\n",
       "                smooth_idf=True, stop_words=None, strip_accents=None,\n",
       "                sublinear_tf=False, token_pattern='(?u)\\\\b\\\\w\\\\w+\\\\b',\n",
       "                tokenizer=None, use_idf=True, vocabulary=None)"
      ]
     },
     "execution_count": 40,
     "metadata": {},
     "output_type": "execute_result"
    }
   ],
   "source": [
    "tfidfvec"
   ]
  },
  {
   "cell_type": "code",
   "execution_count": 41,
   "metadata": {},
   "outputs": [
    {
     "data": {
      "text/plain": [
       "<571x11526 sparse matrix of type '<class 'numpy.float64'>'\n",
       "\twith 72185 stored elements in Compressed Sparse Row format>"
      ]
     },
     "execution_count": 41,
     "metadata": {},
     "output_type": "execute_result"
    }
   ],
   "source": [
    "tfidf_resume"
   ]
  },
  {
   "cell_type": "code",
   "execution_count": 42,
   "metadata": {},
   "outputs": [
    {
     "data": {
      "text/plain": [
       "(571, 11526)"
      ]
     },
     "execution_count": 42,
     "metadata": {},
     "output_type": "execute_result"
    }
   ],
   "source": [
    "tfidf_resume.shape"
   ]
  },
  {
   "cell_type": "code",
   "execution_count": 43,
   "metadata": {},
   "outputs": [],
   "source": [
    "# Finding cosine similarity between vectors \n",
    "from sklearn.metrics.pairwise import cosine_similarity \n",
    "cos_sim = cosine_similarity(tfidf_resume, tfidf_resume)"
   ]
  },
  {
   "cell_type": "code",
   "execution_count": 50,
   "metadata": {},
   "outputs": [],
   "source": [
    "# Storing indices of the data \n",
    "indices = pd.Series(finaldata.index) \n",
    "  \n",
    "def recommendations(title, cosine_sim = cos_sim): \n",
    "    recommended_resume = [] \n",
    "    index = indices[indices == title].index[0] \n",
    "    similarity_scores = pd.Series(cosine_sim[index]).sort_values(ascending = False) \n",
    "    top_10_resume = list(similarity_scores.iloc[1:11].index) \n",
    "    for i in top_10_resume: \n",
    "        recommended_resume.append(list(finaldata.index)[i]) \n",
    "    return recommended_resume "
   ]
  },
  {
   "cell_type": "markdown",
   "metadata": {},
   "source": [
    "# Given Resume to similar Resume"
   ]
  },
  {
   "cell_type": "code",
   "execution_count": 56,
   "metadata": {},
   "outputs": [
    {
     "data": {
      "text/plain": [
       "['ShiftLeader_43124',\n",
       " 'ProductionSupervisor_48124',\n",
       " 'AlyshaWynn_4697',\n",
       " 'MachineOperator_15529',\n",
       " 'LeonardShaw_32044',\n",
       " 'CookPrep_15851',\n",
       " 'JobSeeker_10962',\n",
       " 'OperationsProcessor_30149',\n",
       " 'LindaFranklin_4611',\n",
       " 'Teammember_36420']"
      ]
     },
     "execution_count": 56,
     "metadata": {},
     "output_type": "execute_result"
    }
   ],
   "source": [
    "#recommendation sample 1\n",
    "recommendations(\"ChristopherBrown_30650\")"
   ]
  },
  {
   "cell_type": "code",
   "execution_count": 57,
   "metadata": {},
   "outputs": [
    {
     "data": {
      "text/plain": [
       "['AlyshaWynn_4697',\n",
       " 'JobSeeker_10962',\n",
       " 'PainterHelper_36178',\n",
       " 'LandscapeWorker_47840',\n",
       " 'MembershipRepresentative_12507',\n",
       " 'Server_3899',\n",
       " 'ChristopherBrown_30650',\n",
       " 'RoshellWest_37940',\n",
       " 'PatientCareTechnician_3358',\n",
       " 'MeganBurden_21795']"
      ]
     },
     "execution_count": 57,
     "metadata": {},
     "output_type": "execute_result"
    }
   ],
   "source": [
    "#recommendation sample 2\n",
    "recommendations(\"LindaFranklin_4611\")"
   ]
  },
  {
   "cell_type": "code",
   "execution_count": 58,
   "metadata": {},
   "outputs": [
    {
     "data": {
      "text/plain": [
       "['HoracePalmer_7845',\n",
       " 'RonaldHAynes_4727',\n",
       " 'DavidMajeski_26220',\n",
       " 'FarahDieu_20146',\n",
       " 'JosephQuirino_48764',\n",
       " 'BenCole_41560',\n",
       " 'AlexTucker_13146',\n",
       " 'VanjaTomovic_10917',\n",
       " 'SchoolBusDriverSubDriver_44',\n",
       " 'StockAssociate_44849']"
      ]
     },
     "execution_count": 58,
     "metadata": {},
     "output_type": "execute_result"
    }
   ],
   "source": [
    "#recommendation sample 3\n",
    "recommendations(\"TimSchannauer_22646\")"
   ]
  },
  {
   "cell_type": "code",
   "execution_count": 59,
   "metadata": {},
   "outputs": [
    {
     "data": {
      "text/plain": [
       "['AdministrativeAssistantRegionalSalesAssistant_15895',\n",
       " 'DepartmentManager_46542',\n",
       " 'ChristopherBrown_30650',\n",
       " 'HousekeeperLaundry_14961',\n",
       " 'Server_2184',\n",
       " 'Caregiver_49697',\n",
       " 'CrewMember_11837',\n",
       " 'JanahBrown_38437',\n",
       " 'LeonardShaw_32044',\n",
       " 'SaravSundar_48772']"
      ]
     },
     "execution_count": 59,
     "metadata": {},
     "output_type": "execute_result"
    }
   ],
   "source": [
    "#recommendation sample 4\n",
    "recommendations(\"Teammember_36420\")"
   ]
  },
  {
   "cell_type": "code",
   "execution_count": 60,
   "metadata": {},
   "outputs": [
    {
     "data": {
      "text/plain": [
       "['InboundCustomerService_29884',\n",
       " 'TarenBuckwalterPrince_23493',\n",
       " 'JazzminJohnson_20476',\n",
       " 'ChauniquePrentiss_21170',\n",
       " 'YurisDelcid_22677',\n",
       " 'Caregiver_35924',\n",
       " 'JenniferLy_41314',\n",
       " 'Cashier_3529',\n",
       " 'OperationsProcessor_30149',\n",
       " 'ShiftLeader_16570']"
      ]
     },
     "execution_count": 60,
     "metadata": {},
     "output_type": "execute_result"
    }
   ],
   "source": [
    "#recommendation sample 5\n",
    "recommendations(\"DanahNielsen_26409\")"
   ]
  },
  {
   "cell_type": "code",
   "execution_count": null,
   "metadata": {},
   "outputs": [],
   "source": []
  }
 ],
 "metadata": {
  "kernelspec": {
   "display_name": "Python 3",
   "language": "python",
   "name": "python3"
  },
  "language_info": {
   "codemirror_mode": {
    "name": "ipython",
    "version": 3
   },
   "file_extension": ".py",
   "mimetype": "text/x-python",
   "name": "python",
   "nbconvert_exporter": "python",
   "pygments_lexer": "ipython3",
   "version": "3.7.6"
  }
 },
 "nbformat": 4,
 "nbformat_minor": 4
}
