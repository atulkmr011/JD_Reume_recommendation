{
 "cells": [
  {
   "cell_type": "code",
   "execution_count": 86,
   "metadata": {},
   "outputs": [],
   "source": [
    "#import libraries\n",
    "import pandas as pd\n",
    "import neattext.functions as nfx\n",
    "import matplotlib.pyplot as plt\n",
    "import numpy as np\n",
    "from collections import Counter"
   ]
  },
  {
   "cell_type": "code",
   "execution_count": 87,
   "metadata": {},
   "outputs": [],
   "source": [
    "df=pd.read_csv('combined.csv')"
   ]
  },
  {
   "cell_type": "code",
   "execution_count": 88,
   "metadata": {},
   "outputs": [
    {
     "data": {
      "text/html": [
       "<div>\n",
       "<style scoped>\n",
       "    .dataframe tbody tr th:only-of-type {\n",
       "        vertical-align: middle;\n",
       "    }\n",
       "\n",
       "    .dataframe tbody tr th {\n",
       "        vertical-align: top;\n",
       "    }\n",
       "\n",
       "    .dataframe thead th {\n",
       "        text-align: right;\n",
       "    }\n",
       "</style>\n",
       "<table border=\"1\" class=\"dataframe\">\n",
       "  <thead>\n",
       "    <tr style=\"text-align: right;\">\n",
       "      <th></th>\n",
       "      <th>Type</th>\n",
       "      <th>filename</th>\n",
       "      <th>details</th>\n",
       "    </tr>\n",
       "  </thead>\n",
       "  <tbody>\n",
       "    <tr>\n",
       "      <th>0</th>\n",
       "      <td>Resume</td>\n",
       "      <td>DanahNielsen_26409</td>\n",
       "      <td>danah nielsen hostess  albuquerque  nm    seek...</td>\n",
       "    </tr>\n",
       "    <tr>\n",
       "      <th>1</th>\n",
       "      <td>Resume</td>\n",
       "      <td>ChristopherBrown_30650</td>\n",
       "      <td>christopher brown  west memphis  ar    to obta...</td>\n",
       "    </tr>\n",
       "    <tr>\n",
       "      <th>2</th>\n",
       "      <td>Resume</td>\n",
       "      <td>MinnesotaStateParksWorkerSecurityRangerSeasona...</td>\n",
       "      <td>minnesota state parks worker   security ranger...</td>\n",
       "    </tr>\n",
       "    <tr>\n",
       "      <th>3</th>\n",
       "      <td>Resume</td>\n",
       "      <td>NaveenNetDeveloper_46188</td>\n",
       "      <td>naveen  net developer java developer   bcbsm  ...</td>\n",
       "    </tr>\n",
       "    <tr>\n",
       "      <th>4</th>\n",
       "      <td>Resume</td>\n",
       "      <td>TimSchannauer_22646</td>\n",
       "      <td>tim schannauer electrician helper lane valente...</td>\n",
       "    </tr>\n",
       "  </tbody>\n",
       "</table>\n",
       "</div>"
      ],
      "text/plain": [
       "     Type                                           filename  \\\n",
       "0  Resume                                 DanahNielsen_26409   \n",
       "1  Resume                             ChristopherBrown_30650   \n",
       "2  Resume  MinnesotaStateParksWorkerSecurityRangerSeasona...   \n",
       "3  Resume                           NaveenNetDeveloper_46188   \n",
       "4  Resume                                TimSchannauer_22646   \n",
       "\n",
       "                                             details  \n",
       "0  danah nielsen hostess  albuquerque  nm    seek...  \n",
       "1  christopher brown  west memphis  ar    to obta...  \n",
       "2  minnesota state parks worker   security ranger...  \n",
       "3  naveen  net developer java developer   bcbsm  ...  \n",
       "4  tim schannauer electrician helper lane valente...  "
      ]
     },
     "execution_count": 88,
     "metadata": {},
     "output_type": "execute_result"
    }
   ],
   "source": [
    "df.head()"
   ]
  },
  {
   "cell_type": "code",
   "execution_count": 89,
   "metadata": {},
   "outputs": [],
   "source": [
    "df['filename_a'] = df['Type'] + ' ' + df['filename']"
   ]
  },
  {
   "cell_type": "code",
   "execution_count": 90,
   "metadata": {},
   "outputs": [
    {
     "data": {
      "text/html": [
       "<div>\n",
       "<style scoped>\n",
       "    .dataframe tbody tr th:only-of-type {\n",
       "        vertical-align: middle;\n",
       "    }\n",
       "\n",
       "    .dataframe tbody tr th {\n",
       "        vertical-align: top;\n",
       "    }\n",
       "\n",
       "    .dataframe thead th {\n",
       "        text-align: right;\n",
       "    }\n",
       "</style>\n",
       "<table border=\"1\" class=\"dataframe\">\n",
       "  <thead>\n",
       "    <tr style=\"text-align: right;\">\n",
       "      <th></th>\n",
       "      <th>Type</th>\n",
       "      <th>filename</th>\n",
       "      <th>details</th>\n",
       "      <th>filename_a</th>\n",
       "    </tr>\n",
       "  </thead>\n",
       "  <tbody>\n",
       "    <tr>\n",
       "      <th>0</th>\n",
       "      <td>Resume</td>\n",
       "      <td>DanahNielsen_26409</td>\n",
       "      <td>danah nielsen hostess  albuquerque  nm    seek...</td>\n",
       "      <td>Resume DanahNielsen_26409</td>\n",
       "    </tr>\n",
       "    <tr>\n",
       "      <th>1</th>\n",
       "      <td>Resume</td>\n",
       "      <td>ChristopherBrown_30650</td>\n",
       "      <td>christopher brown  west memphis  ar    to obta...</td>\n",
       "      <td>Resume ChristopherBrown_30650</td>\n",
       "    </tr>\n",
       "    <tr>\n",
       "      <th>2</th>\n",
       "      <td>Resume</td>\n",
       "      <td>MinnesotaStateParksWorkerSecurityRangerSeasona...</td>\n",
       "      <td>minnesota state parks worker   security ranger...</td>\n",
       "      <td>Resume MinnesotaStateParksWorkerSecurityRanger...</td>\n",
       "    </tr>\n",
       "    <tr>\n",
       "      <th>3</th>\n",
       "      <td>Resume</td>\n",
       "      <td>NaveenNetDeveloper_46188</td>\n",
       "      <td>naveen  net developer java developer   bcbsm  ...</td>\n",
       "      <td>Resume NaveenNetDeveloper_46188</td>\n",
       "    </tr>\n",
       "    <tr>\n",
       "      <th>4</th>\n",
       "      <td>Resume</td>\n",
       "      <td>TimSchannauer_22646</td>\n",
       "      <td>tim schannauer electrician helper lane valente...</td>\n",
       "      <td>Resume TimSchannauer_22646</td>\n",
       "    </tr>\n",
       "  </tbody>\n",
       "</table>\n",
       "</div>"
      ],
      "text/plain": [
       "     Type                                           filename  \\\n",
       "0  Resume                                 DanahNielsen_26409   \n",
       "1  Resume                             ChristopherBrown_30650   \n",
       "2  Resume  MinnesotaStateParksWorkerSecurityRangerSeasona...   \n",
       "3  Resume                           NaveenNetDeveloper_46188   \n",
       "4  Resume                                TimSchannauer_22646   \n",
       "\n",
       "                                             details  \\\n",
       "0  danah nielsen hostess  albuquerque  nm    seek...   \n",
       "1  christopher brown  west memphis  ar    to obta...   \n",
       "2  minnesota state parks worker   security ranger...   \n",
       "3  naveen  net developer java developer   bcbsm  ...   \n",
       "4  tim schannauer electrician helper lane valente...   \n",
       "\n",
       "                                          filename_a  \n",
       "0                          Resume DanahNielsen_26409  \n",
       "1                      Resume ChristopherBrown_30650  \n",
       "2  Resume MinnesotaStateParksWorkerSecurityRanger...  \n",
       "3                    Resume NaveenNetDeveloper_46188  \n",
       "4                         Resume TimSchannauer_22646  "
      ]
     },
     "execution_count": 90,
     "metadata": {},
     "output_type": "execute_result"
    }
   ],
   "source": [
    "df.head()"
   ]
  },
  {
   "cell_type": "code",
   "execution_count": 91,
   "metadata": {},
   "outputs": [],
   "source": [
    "df['details'] = df['details'].str.lower()"
   ]
  },
  {
   "cell_type": "code",
   "execution_count": 92,
   "metadata": {},
   "outputs": [],
   "source": [
    "df['details'] = df['details'].str.replace('()','').str.replace('-','').str.replace('.','')"
   ]
  },
  {
   "cell_type": "code",
   "execution_count": 93,
   "metadata": {},
   "outputs": [],
   "source": [
    "df['details'] = df['details'].map(str)"
   ]
  },
  {
   "cell_type": "code",
   "execution_count": 94,
   "metadata": {},
   "outputs": [],
   "source": [
    "df['details'] = df['details'].apply(nfx.remove_numbers).apply(nfx.remove_stopwords).apply(nfx.remove_special_characters)"
   ]
  },
  {
   "cell_type": "code",
   "execution_count": 95,
   "metadata": {},
   "outputs": [],
   "source": [
    "df['details'] = df['details'].apply(nfx.remove_stopwords).apply(nfx.remove_non_ascii)"
   ]
  },
  {
   "cell_type": "code",
   "execution_count": 96,
   "metadata": {},
   "outputs": [],
   "source": [
    "df['details'] = df['details'].str.replace('Apply', '').str.replace('apply', '')\n",
    "df['details'] = df['details'].str.replace('Job', '').str.replace('job', '').str.replace('Description', '').str.replace('description', '').str.replace('Classification', '')"
   ]
  },
  {
   "cell_type": "code",
   "execution_count": 97,
   "metadata": {},
   "outputs": [
    {
     "data": {
      "text/html": [
       "<div>\n",
       "<style scoped>\n",
       "    .dataframe tbody tr th:only-of-type {\n",
       "        vertical-align: middle;\n",
       "    }\n",
       "\n",
       "    .dataframe tbody tr th {\n",
       "        vertical-align: top;\n",
       "    }\n",
       "\n",
       "    .dataframe thead th {\n",
       "        text-align: right;\n",
       "    }\n",
       "</style>\n",
       "<table border=\"1\" class=\"dataframe\">\n",
       "  <thead>\n",
       "    <tr style=\"text-align: right;\">\n",
       "      <th></th>\n",
       "      <th>Type</th>\n",
       "      <th>filename</th>\n",
       "      <th>details</th>\n",
       "      <th>filename_a</th>\n",
       "    </tr>\n",
       "  </thead>\n",
       "  <tbody>\n",
       "    <tr>\n",
       "      <th>0</th>\n",
       "      <td>Resume</td>\n",
       "      <td>DanahNielsen_26409</td>\n",
       "      <td>danah nielsen hostess albuquerque nm seeking p...</td>\n",
       "      <td>Resume DanahNielsen_26409</td>\n",
       "    </tr>\n",
       "    <tr>\n",
       "      <th>1</th>\n",
       "      <td>Resume</td>\n",
       "      <td>ChristopherBrown_30650</td>\n",
       "      <td>christopher brown west memphis ar obtain posit...</td>\n",
       "      <td>Resume ChristopherBrown_30650</td>\n",
       "    </tr>\n",
       "    <tr>\n",
       "      <th>2</th>\n",
       "      <td>Resume</td>\n",
       "      <td>MinnesotaStateParksWorkerSecurityRangerSeasona...</td>\n",
       "      <td>minnesota state parks worker security ranger s...</td>\n",
       "      <td>Resume MinnesotaStateParksWorkerSecurityRanger...</td>\n",
       "    </tr>\n",
       "    <tr>\n",
       "      <th>3</th>\n",
       "      <td>Resume</td>\n",
       "      <td>NaveenNetDeveloper_46188</td>\n",
       "      <td>naveen net developer java developer bcbsm mi d...</td>\n",
       "      <td>Resume NaveenNetDeveloper_46188</td>\n",
       "    </tr>\n",
       "    <tr>\n",
       "      <th>4</th>\n",
       "      <td>Resume</td>\n",
       "      <td>TimSchannauer_22646</td>\n",
       "      <td>tim schannauer electrician helper lane valente...</td>\n",
       "      <td>Resume TimSchannauer_22646</td>\n",
       "    </tr>\n",
       "  </tbody>\n",
       "</table>\n",
       "</div>"
      ],
      "text/plain": [
       "     Type                                           filename  \\\n",
       "0  Resume                                 DanahNielsen_26409   \n",
       "1  Resume                             ChristopherBrown_30650   \n",
       "2  Resume  MinnesotaStateParksWorkerSecurityRangerSeasona...   \n",
       "3  Resume                           NaveenNetDeveloper_46188   \n",
       "4  Resume                                TimSchannauer_22646   \n",
       "\n",
       "                                             details  \\\n",
       "0  danah nielsen hostess albuquerque nm seeking p...   \n",
       "1  christopher brown west memphis ar obtain posit...   \n",
       "2  minnesota state parks worker security ranger s...   \n",
       "3  naveen net developer java developer bcbsm mi d...   \n",
       "4  tim schannauer electrician helper lane valente...   \n",
       "\n",
       "                                          filename_a  \n",
       "0                          Resume DanahNielsen_26409  \n",
       "1                      Resume ChristopherBrown_30650  \n",
       "2  Resume MinnesotaStateParksWorkerSecurityRanger...  \n",
       "3                    Resume NaveenNetDeveloper_46188  \n",
       "4                         Resume TimSchannauer_22646  "
      ]
     },
     "execution_count": 97,
     "metadata": {},
     "output_type": "execute_result"
    }
   ],
   "source": [
    "df.head()"
   ]
  },
  {
   "cell_type": "code",
   "execution_count": 98,
   "metadata": {},
   "outputs": [
    {
     "name": "stderr",
     "output_type": "stream",
     "text": [
      "[nltk_data] Downloading package punkt to\n",
      "[nltk_data]     C:\\Users\\Atul\\AppData\\Roaming\\nltk_data...\n",
      "[nltk_data]   Package punkt is already up-to-date!\n",
      "[nltk_data] Downloading package averaged_perceptron_tagger to\n",
      "[nltk_data]     C:\\Users\\Atul\\AppData\\Roaming\\nltk_data...\n",
      "[nltk_data]   Package averaged_perceptron_tagger is already up-to-\n",
      "[nltk_data]       date!\n",
      "[nltk_data] Downloading package wordnet to\n",
      "[nltk_data]     C:\\Users\\Atul\\AppData\\Roaming\\nltk_data...\n",
      "[nltk_data]   Package wordnet is already up-to-date!\n",
      "[nltk_data] Downloading package stopwords to\n",
      "[nltk_data]     C:\\Users\\Atul\\AppData\\Roaming\\nltk_data...\n",
      "[nltk_data]   Package stopwords is already up-to-date!\n"
     ]
    }
   ],
   "source": [
    "import nltk \n",
    "nltk.download('punkt') \n",
    "nltk.download('averaged_perceptron_tagger') \n",
    "nltk.download('wordnet') \n",
    "  \n",
    "  \n",
    "from nltk.stem import WordNetLemmatizer \n",
    "lemmatizer = WordNetLemmatizer() \n",
    "  \n",
    "from nltk.corpus import stopwords \n",
    "nltk.download('stopwords') \n",
    "stop_words = set(stopwords.words('english')) \n",
    "  \n",
    "VERB_CODES = {'VB', 'VBD', 'VBG', 'VBN', 'VBP', 'VBZ'} "
   ]
  },
  {
   "cell_type": "code",
   "execution_count": 99,
   "metadata": {},
   "outputs": [
    {
     "data": {
      "text/plain": [
       "'danah nielsen hostess albuquerque nm seeking position challenge provide ongoing experiences organization utilizing skills assisting development additional skills professional advancement work experience hostess hop august greeted customers monitored open dining sections cleaned tables managed guest waiting list answering telephone booking reservations center representative september march received inbound calls assist customers problems found resolutions ensure customer satisfaction outbound calls provide customer satisfaction service purchases provided prompt customer service follow appointments necessary server kelly brew pub august september took orders efficiently served food drinks removed dinnerware table responsibly served alcohol state local requirements managed money transactions appropriately completed opening closing procedures dictated establishment time sheet auditor consumer direct personal care october july audited timesheets submitted caregivers ensure completeness accuracy hours documented daily submission forms payroll computer time paycheck distribution deadline met maintained caregiver files updated company database changes e caregiver demographics worked receptionist needed education central new mexico community college high school diploma sandia high school additional information skills proven customer service skills works team player proficient aspects operating cash register money managing experienced microsoft excel outlook word'"
      ]
     },
     "execution_count": 99,
     "metadata": {},
     "output_type": "execute_result"
    }
   ],
   "source": [
    "len(df) \n",
    "  \n",
    "finaldata = df[[\"filename_a\", \"details\"]]          # Required columns - Title and combined data  \n",
    "finaldata = finaldata.set_index('filename_a')    # Setting the job title title as index \n",
    "  \n",
    "finaldata.head(10) \n",
    "finaldata[\"details\"][0] "
   ]
  },
  {
   "cell_type": "code",
   "execution_count": 100,
   "metadata": {},
   "outputs": [
    {
     "data": {
      "text/plain": [
       "(1577, 1)"
      ]
     },
     "execution_count": 100,
     "metadata": {},
     "output_type": "execute_result"
    }
   ],
   "source": [
    "finaldata.shape"
   ]
  },
  {
   "cell_type": "code",
   "execution_count": 101,
   "metadata": {},
   "outputs": [
    {
     "data": {
      "text/html": [
       "<div>\n",
       "<style scoped>\n",
       "    .dataframe tbody tr th:only-of-type {\n",
       "        vertical-align: middle;\n",
       "    }\n",
       "\n",
       "    .dataframe tbody tr th {\n",
       "        vertical-align: top;\n",
       "    }\n",
       "\n",
       "    .dataframe thead th {\n",
       "        text-align: right;\n",
       "    }\n",
       "</style>\n",
       "<table border=\"1\" class=\"dataframe\">\n",
       "  <thead>\n",
       "    <tr style=\"text-align: right;\">\n",
       "      <th></th>\n",
       "      <th>details</th>\n",
       "      <th>details_processed</th>\n",
       "    </tr>\n",
       "    <tr>\n",
       "      <th>filename_a</th>\n",
       "      <th></th>\n",
       "      <th></th>\n",
       "    </tr>\n",
       "  </thead>\n",
       "  <tbody>\n",
       "    <tr>\n",
       "      <th>Resume DanahNielsen_26409</th>\n",
       "      <td>danah nielsen hostess albuquerque nm seeking p...</td>\n",
       "      <td>danah nielsen hostess albuquerque nm seek posi...</td>\n",
       "    </tr>\n",
       "    <tr>\n",
       "      <th>Resume ChristopherBrown_30650</th>\n",
       "      <td>christopher brown west memphis ar obtain posit...</td>\n",
       "      <td>christopher brown west memphis ar obtain posit...</td>\n",
       "    </tr>\n",
       "    <tr>\n",
       "      <th>Resume MinnesotaStateParksWorkerSecurityRangerSeasonalParttime_32908</th>\n",
       "      <td>minnesota state parks worker security ranger s...</td>\n",
       "      <td>minnesota state park worker security ranger se...</td>\n",
       "    </tr>\n",
       "    <tr>\n",
       "      <th>Resume NaveenNetDeveloper_46188</th>\n",
       "      <td>naveen net developer java developer bcbsm mi d...</td>\n",
       "      <td>naveen net developer java developer bcbsm mi d...</td>\n",
       "    </tr>\n",
       "    <tr>\n",
       "      <th>Resume TimSchannauer_22646</th>\n",
       "      <td>tim schannauer electrician helper lane valente...</td>\n",
       "      <td>tim schannauer electrician helper lane valente...</td>\n",
       "    </tr>\n",
       "  </tbody>\n",
       "</table>\n",
       "</div>"
      ],
      "text/plain": [
       "                                                                                              details  \\\n",
       "filename_a                                                                                              \n",
       "Resume DanahNielsen_26409                           danah nielsen hostess albuquerque nm seeking p...   \n",
       "Resume ChristopherBrown_30650                       christopher brown west memphis ar obtain posit...   \n",
       "Resume MinnesotaStateParksWorkerSecurityRangerS...  minnesota state parks worker security ranger s...   \n",
       "Resume NaveenNetDeveloper_46188                     naveen net developer java developer bcbsm mi d...   \n",
       "Resume TimSchannauer_22646                          tim schannauer electrician helper lane valente...   \n",
       "\n",
       "                                                                                    details_processed  \n",
       "filename_a                                                                                             \n",
       "Resume DanahNielsen_26409                           danah nielsen hostess albuquerque nm seek posi...  \n",
       "Resume ChristopherBrown_30650                       christopher brown west memphis ar obtain posit...  \n",
       "Resume MinnesotaStateParksWorkerSecurityRangerS...  minnesota state park worker security ranger se...  \n",
       "Resume NaveenNetDeveloper_46188                     naveen net developer java developer bcbsm mi d...  \n",
       "Resume TimSchannauer_22646                          tim schannauer electrician helper lane valente...  "
      ]
     },
     "execution_count": 101,
     "metadata": {},
     "output_type": "execute_result"
    }
   ],
   "source": [
    "#takes few min\n",
    "def preprocess_sentences(text): \n",
    "  text = text.lower() \n",
    "  temp_sent =[] \n",
    "  words = nltk.word_tokenize(text) \n",
    "  tags = nltk.pos_tag(words) \n",
    "  for i, word in enumerate(words): \n",
    "      if tags[i][1] in VERB_CODES:  \n",
    "          lemmatized = lemmatizer.lemmatize(word, 'v') \n",
    "      else: \n",
    "          lemmatized = lemmatizer.lemmatize(word) \n",
    "      if lemmatized not in stop_words and lemmatized.isalpha(): \n",
    "          temp_sent.append(lemmatized) \n",
    "          \n",
    "  finalsent = ' '.join(temp_sent) \n",
    "  finalsent = finalsent.replace(\"n't\", \" not\") \n",
    "  finalsent = finalsent.replace(\"'m\", \" am\") \n",
    "  finalsent = finalsent.replace(\"'s\", \" is\") \n",
    "  finalsent = finalsent.replace(\"'re\", \" are\") \n",
    "  finalsent = finalsent.replace(\"'ll\", \" will\") \n",
    "  finalsent = finalsent.replace(\"'ve\", \" have\") \n",
    "  finalsent = finalsent.replace(\"'d\", \" would\") \n",
    "  return finalsent \n",
    "  \n",
    "finaldata[\"details_processed\"]= finaldata[\"details\"].apply(preprocess_sentences) \n",
    "finaldata.head() "
   ]
  },
  {
   "cell_type": "code",
   "execution_count": null,
   "metadata": {},
   "outputs": [],
   "source": [
    "#we can use this according to data that how much clean final data is\n",
    "#import re\n",
    "#remove_less = lambda x: re.sub(r'\\b\\w{​​1,4}​​\\b', '', x)\n",
    "#finaldata[\"resume_processed\"]= finaldata[\"resume\"].apply(remove_less)"
   ]
  },
  {
   "cell_type": "code",
   "execution_count": 102,
   "metadata": {},
   "outputs": [],
   "source": [
    "from sklearn.feature_extraction.text import TfidfVectorizer \n",
    "  \n",
    "# Vectorizing pre-processed combo using TF-IDF \n",
    "tfidfvec = TfidfVectorizer() \n",
    "tfidf_job = tfidfvec.fit_transform((finaldata[\"details_processed\"])) "
   ]
  },
  {
   "cell_type": "code",
   "execution_count": 103,
   "metadata": {},
   "outputs": [
    {
     "data": {
      "text/plain": [
       "TfidfVectorizer(analyzer='word', binary=False, decode_error='strict',\n",
       "                dtype=<class 'numpy.float64'>, encoding='utf-8',\n",
       "                input='content', lowercase=True, max_df=1.0, max_features=None,\n",
       "                min_df=1, ngram_range=(1, 1), norm='l2', preprocessor=None,\n",
       "                smooth_idf=True, stop_words=None, strip_accents=None,\n",
       "                sublinear_tf=False, token_pattern='(?u)\\\\b\\\\w\\\\w+\\\\b',\n",
       "                tokenizer=None, use_idf=True, vocabulary=None)"
      ]
     },
     "execution_count": 103,
     "metadata": {},
     "output_type": "execute_result"
    }
   ],
   "source": [
    "tfidfvec"
   ]
  },
  {
   "cell_type": "code",
   "execution_count": 104,
   "metadata": {},
   "outputs": [
    {
     "data": {
      "text/plain": [
       "<1577x22614 sparse matrix of type '<class 'numpy.float64'>'\n",
       "\twith 183856 stored elements in Compressed Sparse Row format>"
      ]
     },
     "execution_count": 104,
     "metadata": {},
     "output_type": "execute_result"
    }
   ],
   "source": [
    "tfidf_job"
   ]
  },
  {
   "cell_type": "code",
   "execution_count": 105,
   "metadata": {},
   "outputs": [
    {
     "data": {
      "text/plain": [
       "(1577, 22614)"
      ]
     },
     "execution_count": 105,
     "metadata": {},
     "output_type": "execute_result"
    }
   ],
   "source": [
    "tfidf_job.shape"
   ]
  },
  {
   "cell_type": "code",
   "execution_count": 106,
   "metadata": {},
   "outputs": [],
   "source": [
    "# Finding cosine similarity between vectors \n",
    "from sklearn.metrics.pairwise import cosine_similarity \n",
    "cos_sim = cosine_similarity(tfidf_job, tfidf_job)"
   ]
  },
  {
   "cell_type": "code",
   "execution_count": 107,
   "metadata": {},
   "outputs": [],
   "source": [
    "# Storing indices of the data \n",
    "indices = pd.Series(finaldata.index) \n",
    "  \n",
    "def recommendations(title, cosine_sim = cos_sim): \n",
    "    recommended_job = [] \n",
    "    index = indices[indices == title].index[0] \n",
    "    similarity_scores = pd.Series(cosine_sim[index]).sort_values(ascending = False) \n",
    "    top_10_jobs = list(similarity_scores.iloc[1:91].index)\n",
    "    for i in top_10_jobs: \n",
    "        recommended_job.append(list(finaldata.index)[i]) \n",
    "    return recommended_job "
   ]
  },
  {
   "cell_type": "markdown",
   "metadata": {},
   "source": [
    "# Given Resume and similar JD output"
   ]
  },
  {
   "cell_type": "code",
   "execution_count": 108,
   "metadata": {},
   "outputs": [],
   "source": [
    "#recommendation sample 1 -> Resume to JD\n",
    "\n",
    "rec_1=recommendations(\"Resume DanahNielsen_26409\")"
   ]
  },
  {
   "cell_type": "code",
   "execution_count": 109,
   "metadata": {},
   "outputs": [
    {
     "name": "stdout",
     "output_type": "stream",
     "text": [
      "['JD Customer Service R_138097', 'JD Customer Service R_149000', 'JD Customer Service R_121171', 'JD Customer Service R_122169', 'JD Customer Service R_124255', 'JD Customer Service R_126354', 'JD Customer Service R_145262', 'JD Customer Service R_139383', 'JD Customer Service R_135743', 'JD Customer Service R_17790', 'JD Customer Service R_132102', 'JD Customer Service M_86092', 'JD Nights Administrat_86114', 'JD Insurance Sales C_38311', 'JD NOC Engineer_31706', 'JD Customer Service R_137219', 'JD Customer Service R_143161', 'JD Customer Service R_130493']\n"
     ]
    }
   ],
   "source": [
    "# Import re module to use regular expression\n",
    "import re\n",
    " \n",
    "# Declare the list contains subject code\n",
    "sublist = rec_1\n",
    "\n",
    "# Declare the filter function\n",
    "def Filter(datalist):\n",
    "    # Search data based on regular expression in the list\n",
    "    return [val for val in datalist\n",
    "        if re.search(r'^JD', val)]\n",
    "\n",
    "# Print the filter data\n",
    "print(Filter(sublist))"
   ]
  },
  {
   "cell_type": "code",
   "execution_count": 110,
   "metadata": {},
   "outputs": [
    {
     "name": "stdout",
     "output_type": "stream",
     "text": [
      "['JD QC Analyst_118242', 'JD Bioanalytical Scie_50811', 'JD Research Associate_33599', 'JD Formulation Chemis_118253', 'JD Clinical Laborator_47443', 'JD Sr Lab Application_19171', 'JD Software Test Engi_49258', 'JD Sr Network Integra_45136', 'JD Software Engineer_48916', 'JD Sales Representati_133553', 'JD Head of Technical_11891', 'JD Data Analyst_16438', 'JD Material Handler L_44370', 'JD Business Analyst_127377', 'JD Associate Quality_75342', 'JD Senior C Software_40735', 'JD Network Engineer_28249', 'JD Data Center Archit_37869', 'JD Software QA Engine_50134', 'JD Senior Data Wareho_27664', 'JD Financial Analyst_142040', 'JD Technical Marketin_32963', 'JD Sales Data and Rep_97030', 'JD SW Engineer Embedd_34124', 'JD CCSoftware Develop_23487', 'JD Product Manager S_66426', 'JD Software Developme_1776', 'JD Product Safety Spe_55386', 'JD QA Analyst Job in_39500', 'JD Junior Data Analys_16623', 'JD software engineer_33028', 'JD Quality Engineer L_28960', 'JD Senior Workstation_28438', 'JD Automation Archite_32761', 'JD Printing Suppor_23682', 'JD Maximo Developer_29052', 'JD Technical Architec_73887', 'JD BUSINESS DEVELOPME_74973', 'JD Data Analyst_16097', 'JD Junior QA Engineer_17878', 'JD Amdy Mgr Vender D_70238', 'JD Senior Software De_2001', 'JD Senior Software En_1703']\n"
     ]
    }
   ],
   "source": [
    "#recommendation sample 2 -> Resume to JD\n",
    "\n",
    "rec_2=recommendations(\"Resume LeadAnalyticalChemist_49625\")\n",
    "\n",
    "sublist = rec_2\n",
    "\n",
    "def Filter(datalist):\n",
    "    return [val for val in datalist\n",
    "        if re.search(r'^JD', val)]\n",
    "print(Filter(sublist))"
   ]
  },
  {
   "cell_type": "markdown",
   "metadata": {},
   "source": [
    "# Given JD and similar Resume output"
   ]
  },
  {
   "cell_type": "code",
   "execution_count": 111,
   "metadata": {},
   "outputs": [
    {
     "name": "stdout",
     "output_type": "stream",
     "text": [
      "['Resume PrincipalEmbeddedSoftwareEngineer_34595', 'Resume TeachleadsupervisorTrainercoordinator_28532', 'Resume TeresaMoore_10875', 'Resume EndtoEndSystemsEngineer_48584', 'Resume ProjectManagerSystemImplementation_36556', 'Resume ITConsultant_47848', 'Resume SaravSundar_48772', 'Resume BrianRaser_38265', 'Resume JasonEnglish_48805', 'Resume SabrinaThompson_13871', 'Resume ManagerTech_24966', 'Resume RonaldHAynes_4727', 'Resume Associate_24579']\n"
     ]
    }
   ],
   "source": [
    "#recommendation sample 3 -> JD to Resume\n",
    "\n",
    "rec_3=recommendations(\"JD Project Manager Ne_27426\")\n",
    "\n",
    "sublist = rec_3\n",
    "\n",
    "def Filter(datalist):\n",
    "    return [val for val in datalist\n",
    "        if re.search(r'^Resume', val)]\n",
    "print(Filter(sublist))"
   ]
  },
  {
   "cell_type": "code",
   "execution_count": 112,
   "metadata": {},
   "outputs": [
    {
     "name": "stdout",
     "output_type": "stream",
     "text": [
      "['Resume MatthewJackowski_44021', 'Resume SabrinaThompson_13871', 'Resume JasonEnglish_48805', 'Resume KrishnaSrDISpecialist_47004', 'Resume SaravSundar_48772', 'Resume ProjectManagerSystemImplementation_36556']\n"
     ]
    }
   ],
   "source": [
    "#recommendation sample 4 -> JD to Resume\n",
    "\n",
    "rec_4=recommendations(\"JD Business Analyst_147857\")\n",
    "\n",
    "sublist = rec_4\n",
    "\n",
    "def Filter(datalist):\n",
    "    return [val for val in datalist\n",
    "        if re.search(r'^Resume', val)]\n",
    "print(Filter(sublist))"
   ]
  },
  {
   "cell_type": "code",
   "execution_count": null,
   "metadata": {},
   "outputs": [],
   "source": []
  }
 ],
 "metadata": {
  "kernelspec": {
   "display_name": "Python 3",
   "language": "python",
   "name": "python3"
  },
  "language_info": {
   "codemirror_mode": {
    "name": "ipython",
    "version": 3
   },
   "file_extension": ".py",
   "mimetype": "text/x-python",
   "name": "python",
   "nbconvert_exporter": "python",
   "pygments_lexer": "ipython3",
   "version": "3.7.6"
  }
 },
 "nbformat": 4,
 "nbformat_minor": 4
}
