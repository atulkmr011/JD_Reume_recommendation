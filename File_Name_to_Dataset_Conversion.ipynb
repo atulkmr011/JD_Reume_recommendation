{
 "cells": [
  {
   "cell_type": "code",
   "execution_count": 5,
   "metadata": {
    "id": "gSdeXlvvhqaG"
   },
   "outputs": [],
   "source": [
    "import os\n",
    "import numpy as np\n",
    "import pandas as pd\n",
    "\n",
    "directory = \"Resume_Files\"\n",
    "\n",
    "# Column names\n",
    "filename_col = 'filename'\n",
    "resume_col = 'resume'\n",
    "\n",
    "alist = list()\n",
    "\n",
    "# Generate Resume Data set\n",
    "for filename in os.listdir(directory):\n",
    "  basepath = os.getcwd() + \"/\" + directory + \"/\"  # Base path of your directory from the root till dir\n",
    "  filepath = basepath+filename\n",
    "  \n",
    "  f = open(filepath)\n",
    "  temp = {filename_col: filename, resume_col: f.read()}\n",
    "  alist.append(temp)\n",
    "  f.close()\n",
    "\n",
    "resume_df = pd.DataFrame(alist)\n"
   ]
  },
  {
   "cell_type": "code",
   "execution_count": 6,
   "metadata": {
    "colab": {
     "base_uri": "https://localhost:8080/",
     "height": 204
    },
    "id": "HNsG6btJxzsh",
    "outputId": "0189b770-42f4-4eee-8719-5d921460eedd"
   },
   "outputs": [
    {
     "data": {
      "text/html": [
       "<div>\n",
       "<style scoped>\n",
       "    .dataframe tbody tr th:only-of-type {\n",
       "        vertical-align: middle;\n",
       "    }\n",
       "\n",
       "    .dataframe tbody tr th {\n",
       "        vertical-align: top;\n",
       "    }\n",
       "\n",
       "    .dataframe thead th {\n",
       "        text-align: right;\n",
       "    }\n",
       "</style>\n",
       "<table border=\"1\" class=\"dataframe\">\n",
       "  <thead>\n",
       "    <tr style=\"text-align: right;\">\n",
       "      <th></th>\n",
       "      <th>filename</th>\n",
       "      <th>resume</th>\n",
       "    </tr>\n",
       "  </thead>\n",
       "  <tbody>\n",
       "    <tr>\n",
       "      <th>0</th>\n",
       "      <td>DanahNielsen_26409</td>\n",
       "      <td>danah nielsen hostess  albuquerque  nm    seek...</td>\n",
       "    </tr>\n",
       "    <tr>\n",
       "      <th>1</th>\n",
       "      <td>ChristopherBrown_30650</td>\n",
       "      <td>christopher brown  west memphis  ar    to obta...</td>\n",
       "    </tr>\n",
       "    <tr>\n",
       "      <th>2</th>\n",
       "      <td>MinnesotaStateParksWorkerSecurityRangerSeasona...</td>\n",
       "      <td>minnesota state parks worker   security ranger...</td>\n",
       "    </tr>\n",
       "    <tr>\n",
       "      <th>3</th>\n",
       "      <td>NaveenNetDeveloper_46188</td>\n",
       "      <td>naveen  net developer java developer   bcbsm  ...</td>\n",
       "    </tr>\n",
       "    <tr>\n",
       "      <th>4</th>\n",
       "      <td>TimSchannauer_22646</td>\n",
       "      <td>tim schannauer electrician helper lane valente...</td>\n",
       "    </tr>\n",
       "  </tbody>\n",
       "</table>\n",
       "</div>"
      ],
      "text/plain": [
       "                                            filename  \\\n",
       "0                                 DanahNielsen_26409   \n",
       "1                             ChristopherBrown_30650   \n",
       "2  MinnesotaStateParksWorkerSecurityRangerSeasona...   \n",
       "3                           NaveenNetDeveloper_46188   \n",
       "4                                TimSchannauer_22646   \n",
       "\n",
       "                                              resume  \n",
       "0  danah nielsen hostess  albuquerque  nm    seek...  \n",
       "1  christopher brown  west memphis  ar    to obta...  \n",
       "2  minnesota state parks worker   security ranger...  \n",
       "3  naveen  net developer java developer   bcbsm  ...  \n",
       "4  tim schannauer electrician helper lane valente...  "
      ]
     },
     "execution_count": 6,
     "metadata": {},
     "output_type": "execute_result"
    }
   ],
   "source": [
    "resume_df.head()"
   ]
  },
  {
   "cell_type": "code",
   "execution_count": 7,
   "metadata": {},
   "outputs": [
    {
     "data": {
      "text/plain": [
       "(50032, 2)"
      ]
     },
     "execution_count": 7,
     "metadata": {},
     "output_type": "execute_result"
    }
   ],
   "source": [
    "resume_df.shape"
   ]
  },
  {
   "cell_type": "code",
   "execution_count": 2,
   "metadata": {},
   "outputs": [
    {
     "data": {
      "text/plain": [
       "'/Users/mohseen/Development/Durham/Capstone/DataSet'"
      ]
     },
     "execution_count": 2,
     "metadata": {},
     "output_type": "execute_result"
    }
   ],
   "source": [
    "import os\n",
    "\n",
    "os.getcwd()"
   ]
  },
  {
   "cell_type": "code",
   "execution_count": 8,
   "metadata": {
    "id": "A1KJAou8ztfe"
   },
   "outputs": [],
   "source": [
    "resume_df.to_csv('Resume_Dataset.csv')"
   ]
  },
  {
   "cell_type": "code",
   "execution_count": 11,
   "metadata": {
    "id": "PtpUGzJMxfB6"
   },
   "outputs": [],
   "source": [
    "directory = \"JD_Files\"\n",
    "\n",
    "# Column names\n",
    "filename_col = 'filename'\n",
    "resume_col = 'job_desc'\n",
    "\n",
    "alist = list()\n",
    "\n",
    "# Generate Job description Data set\n",
    "for filename in os.listdir(directory):\n",
    "  basepath = os.getcwd() + \"/\" + directory + \"/\"  # Base path of your directory from the root till dir\n",
    "  filepath = basepath+filename\n",
    "  enc = 'iso-8859-15'\n",
    "  f = open(filepath, encoding= enc)\n",
    "  temp = {filename_col: filename, resume_col: f.read()}\n",
    "  alist.append(temp)\n",
    "  f.close()\n",
    "\n",
    "job_df = pd.DataFrame(alist)"
   ]
  },
  {
   "cell_type": "code",
   "execution_count": 15,
   "metadata": {
    "colab": {
     "base_uri": "https://localhost:8080/",
     "height": 204
    },
    "id": "0CLe1hBqx5fy",
    "outputId": "3d234c48-db00-4791-b614-09e9c674f3ff"
   },
   "outputs": [
    {
     "data": {
      "text/html": [
       "<div>\n",
       "<style scoped>\n",
       "    .dataframe tbody tr th:only-of-type {\n",
       "        vertical-align: middle;\n",
       "    }\n",
       "\n",
       "    .dataframe tbody tr th {\n",
       "        vertical-align: top;\n",
       "    }\n",
       "\n",
       "    .dataframe thead th {\n",
       "        text-align: right;\n",
       "    }\n",
       "</style>\n",
       "<table border=\"1\" class=\"dataframe\">\n",
       "  <thead>\n",
       "    <tr style=\"text-align: right;\">\n",
       "      <th></th>\n",
       "      <th>filename</th>\n",
       "      <th>job_desc</th>\n",
       "    </tr>\n",
       "  </thead>\n",
       "  <tbody>\n",
       "    <tr>\n",
       "      <th>0</th>\n",
       "      <td>NOC Engineer_64709</td>\n",
       "      <td>Job Description    Send me Jobs like this J...</td>\n",
       "    </tr>\n",
       "    <tr>\n",
       "      <th>1</th>\n",
       "      <td>Senior Frontend De_21106</td>\n",
       "      <td>Senior Frontend Developer JavascriptThis ...</td>\n",
       "    </tr>\n",
       "    <tr>\n",
       "      <th>2</th>\n",
       "      <td>Sr Software Develo_2360</td>\n",
       "      <td>Are you interested in building an amazing r...</td>\n",
       "    </tr>\n",
       "    <tr>\n",
       "      <th>3</th>\n",
       "      <td>Head of Compliance_97878</td>\n",
       "      <td>Apply now To lead the Bank   s Compliance ...</td>\n",
       "    </tr>\n",
       "    <tr>\n",
       "      <th>4</th>\n",
       "      <td>Customer Service R_141060</td>\n",
       "      <td>Inteligente Solutions offers excellent e...</td>\n",
       "    </tr>\n",
       "    <tr>\n",
       "      <th>5</th>\n",
       "      <td>Sales Manager East_95277</td>\n",
       "      <td>Apply now Sales Manager Eastern Europe  So...</td>\n",
       "    </tr>\n",
       "    <tr>\n",
       "      <th>6</th>\n",
       "      <td>BW developer with_36857</td>\n",
       "      <td>PDI is looking for senior SAP BW developerY...</td>\n",
       "    </tr>\n",
       "    <tr>\n",
       "      <th>7</th>\n",
       "      <td>Executive Assistan_127299</td>\n",
       "      <td>We are looking for an experienced Executiv...</td>\n",
       "    </tr>\n",
       "    <tr>\n",
       "      <th>8</th>\n",
       "      <td>Customer Service R_125525</td>\n",
       "      <td>Job Classification   Contract  n nLooking ...</td>\n",
       "    </tr>\n",
       "    <tr>\n",
       "      <th>9</th>\n",
       "      <td>Biomedical Enginee_17883</td>\n",
       "      <td>Minimum Required SkillsBiomaterials Regulat...</td>\n",
       "    </tr>\n",
       "  </tbody>\n",
       "</table>\n",
       "</div>"
      ],
      "text/plain": [
       "                    filename  \\\n",
       "0         NOC Engineer_64709   \n",
       "1   Senior Frontend De_21106   \n",
       "2    Sr Software Develo_2360   \n",
       "3   Head of Compliance_97878   \n",
       "4  Customer Service R_141060   \n",
       "5   Sales Manager East_95277   \n",
       "6    BW developer with_36857   \n",
       "7  Executive Assistan_127299   \n",
       "8  Customer Service R_125525   \n",
       "9   Biomedical Enginee_17883   \n",
       "\n",
       "                                            job_desc  \n",
       "0     Job Description    Send me Jobs like this J...  \n",
       "1       Senior Frontend Developer JavascriptThis ...  \n",
       "2     Are you interested in building an amazing r...  \n",
       "3      Apply now To lead the Bank   s Compliance ...  \n",
       "4        Inteligente Solutions offers excellent e...  \n",
       "5      Apply now Sales Manager Eastern Europe  So...  \n",
       "6     PDI is looking for senior SAP BW developerY...  \n",
       "7      We are looking for an experienced Executiv...  \n",
       "8      Job Classification   Contract  n nLooking ...  \n",
       "9     Minimum Required SkillsBiomaterials Regulat...  "
      ]
     },
     "execution_count": 15,
     "metadata": {},
     "output_type": "execute_result"
    }
   ],
   "source": [
    "job_df.head(10)"
   ]
  },
  {
   "cell_type": "code",
   "execution_count": 13,
   "metadata": {
    "id": "vWQNLEW2011a"
   },
   "outputs": [],
   "source": [
    "job_df.to_csv('Job_Description_DataSet.csv')"
   ]
  },
  {
   "cell_type": "code",
   "execution_count": 14,
   "metadata": {},
   "outputs": [
    {
     "data": {
      "text/plain": [
       "(151211, 2)"
      ]
     },
     "execution_count": 14,
     "metadata": {},
     "output_type": "execute_result"
    }
   ],
   "source": [
    "job_df.shape"
   ]
  },
  {
   "cell_type": "code",
   "execution_count": null,
   "metadata": {},
   "outputs": [],
   "source": []
  }
 ],
 "metadata": {
  "colab": {
   "name": "File Name to Dataset Conversion.ipynb",
   "provenance": []
  },
  "kernelspec": {
   "display_name": "Python 3",
   "language": "python",
   "name": "python3"
  },
  "language_info": {
   "codemirror_mode": {
    "name": "ipython",
    "version": 3
   },
   "file_extension": ".py",
   "mimetype": "text/x-python",
   "name": "python",
   "nbconvert_exporter": "python",
   "pygments_lexer": "ipython3",
   "version": "3.7.6"
  }
 },
 "nbformat": 4,
 "nbformat_minor": 1
}
