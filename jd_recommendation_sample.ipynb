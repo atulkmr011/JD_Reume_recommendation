{
 "cells": [
  {
   "cell_type": "code",
   "execution_count": 39,
   "metadata": {},
   "outputs": [],
   "source": [
    "#import libraries\n",
    "import pandas as pd\n",
    "import neattext.functions as nfx\n",
    "import matplotlib.pyplot as plt\n",
    "import numpy as np\n",
    "from collections import Counter"
   ]
  },
  {
   "cell_type": "code",
   "execution_count": 40,
   "metadata": {},
   "outputs": [],
   "source": [
    "df=pd.read_csv('Job_Description_DataSet_Sample.csv')"
   ]
  },
  {
   "cell_type": "code",
   "execution_count": 41,
   "metadata": {},
   "outputs": [
    {
     "data": {
      "text/html": [
       "<div>\n",
       "<style scoped>\n",
       "    .dataframe tbody tr th:only-of-type {\n",
       "        vertical-align: middle;\n",
       "    }\n",
       "\n",
       "    .dataframe tbody tr th {\n",
       "        vertical-align: top;\n",
       "    }\n",
       "\n",
       "    .dataframe thead th {\n",
       "        text-align: right;\n",
       "    }\n",
       "</style>\n",
       "<table border=\"1\" class=\"dataframe\">\n",
       "  <thead>\n",
       "    <tr style=\"text-align: right;\">\n",
       "      <th></th>\n",
       "      <th>Unnamed: 0</th>\n",
       "      <th>filename</th>\n",
       "      <th>job_desc</th>\n",
       "    </tr>\n",
       "  </thead>\n",
       "  <tbody>\n",
       "    <tr>\n",
       "      <th>0</th>\n",
       "      <td>0</td>\n",
       "      <td>NOC Engineer_64709</td>\n",
       "      <td>Job Description    Send me Jobs like this J...</td>\n",
       "    </tr>\n",
       "    <tr>\n",
       "      <th>1</th>\n",
       "      <td>1</td>\n",
       "      <td>Senior Frontend De_21106</td>\n",
       "      <td>Senior Frontend Developer JavascriptThis ...</td>\n",
       "    </tr>\n",
       "    <tr>\n",
       "      <th>2</th>\n",
       "      <td>2</td>\n",
       "      <td>Sr Software Develo_2360</td>\n",
       "      <td>Are you interested in building an amazing r...</td>\n",
       "    </tr>\n",
       "    <tr>\n",
       "      <th>3</th>\n",
       "      <td>3</td>\n",
       "      <td>Head of Compliance_97878</td>\n",
       "      <td>Apply now To lead the Bank   s Compliance ...</td>\n",
       "    </tr>\n",
       "    <tr>\n",
       "      <th>4</th>\n",
       "      <td>4</td>\n",
       "      <td>Customer Service R_141060</td>\n",
       "      <td>Inteligente Solutions offers excellent e...</td>\n",
       "    </tr>\n",
       "  </tbody>\n",
       "</table>\n",
       "</div>"
      ],
      "text/plain": [
       "   Unnamed: 0                   filename  \\\n",
       "0           0         NOC Engineer_64709   \n",
       "1           1   Senior Frontend De_21106   \n",
       "2           2    Sr Software Develo_2360   \n",
       "3           3   Head of Compliance_97878   \n",
       "4           4  Customer Service R_141060   \n",
       "\n",
       "                                            job_desc  \n",
       "0     Job Description    Send me Jobs like this J...  \n",
       "1       Senior Frontend Developer JavascriptThis ...  \n",
       "2     Are you interested in building an amazing r...  \n",
       "3      Apply now To lead the Bank   s Compliance ...  \n",
       "4        Inteligente Solutions offers excellent e...  "
      ]
     },
     "execution_count": 41,
     "metadata": {},
     "output_type": "execute_result"
    }
   ],
   "source": [
    "df.head()"
   ]
  },
  {
   "cell_type": "code",
   "execution_count": 42,
   "metadata": {},
   "outputs": [],
   "source": [
    "df['jd'] = df['filename'] + ' ' + df['job_desc']"
   ]
  },
  {
   "cell_type": "code",
   "execution_count": 43,
   "metadata": {},
   "outputs": [
    {
     "data": {
      "text/html": [
       "<div>\n",
       "<style scoped>\n",
       "    .dataframe tbody tr th:only-of-type {\n",
       "        vertical-align: middle;\n",
       "    }\n",
       "\n",
       "    .dataframe tbody tr th {\n",
       "        vertical-align: top;\n",
       "    }\n",
       "\n",
       "    .dataframe thead th {\n",
       "        text-align: right;\n",
       "    }\n",
       "</style>\n",
       "<table border=\"1\" class=\"dataframe\">\n",
       "  <thead>\n",
       "    <tr style=\"text-align: right;\">\n",
       "      <th></th>\n",
       "      <th>Unnamed: 0</th>\n",
       "      <th>filename</th>\n",
       "      <th>job_desc</th>\n",
       "      <th>jd</th>\n",
       "    </tr>\n",
       "  </thead>\n",
       "  <tbody>\n",
       "    <tr>\n",
       "      <th>0</th>\n",
       "      <td>0</td>\n",
       "      <td>NOC Engineer_64709</td>\n",
       "      <td>Job Description    Send me Jobs like this J...</td>\n",
       "      <td>NOC Engineer_64709    Job Description    Send ...</td>\n",
       "    </tr>\n",
       "    <tr>\n",
       "      <th>1</th>\n",
       "      <td>1</td>\n",
       "      <td>Senior Frontend De_21106</td>\n",
       "      <td>Senior Frontend Developer JavascriptThis ...</td>\n",
       "      <td>Senior Frontend De_21106      Senior Frontend ...</td>\n",
       "    </tr>\n",
       "    <tr>\n",
       "      <th>2</th>\n",
       "      <td>2</td>\n",
       "      <td>Sr Software Develo_2360</td>\n",
       "      <td>Are you interested in building an amazing r...</td>\n",
       "      <td>Sr Software Develo_2360    Are you interested ...</td>\n",
       "    </tr>\n",
       "    <tr>\n",
       "      <th>3</th>\n",
       "      <td>3</td>\n",
       "      <td>Head of Compliance_97878</td>\n",
       "      <td>Apply now To lead the Bank   s Compliance ...</td>\n",
       "      <td>Head of Compliance_97878     Apply now To lead...</td>\n",
       "    </tr>\n",
       "    <tr>\n",
       "      <th>4</th>\n",
       "      <td>4</td>\n",
       "      <td>Customer Service R_141060</td>\n",
       "      <td>Inteligente Solutions offers excellent e...</td>\n",
       "      <td>Customer Service R_141060       Inteligente So...</td>\n",
       "    </tr>\n",
       "  </tbody>\n",
       "</table>\n",
       "</div>"
      ],
      "text/plain": [
       "   Unnamed: 0                   filename  \\\n",
       "0           0         NOC Engineer_64709   \n",
       "1           1   Senior Frontend De_21106   \n",
       "2           2    Sr Software Develo_2360   \n",
       "3           3   Head of Compliance_97878   \n",
       "4           4  Customer Service R_141060   \n",
       "\n",
       "                                            job_desc  \\\n",
       "0     Job Description    Send me Jobs like this J...   \n",
       "1       Senior Frontend Developer JavascriptThis ...   \n",
       "2     Are you interested in building an amazing r...   \n",
       "3      Apply now To lead the Bank   s Compliance ...   \n",
       "4        Inteligente Solutions offers excellent e...   \n",
       "\n",
       "                                                  jd  \n",
       "0  NOC Engineer_64709    Job Description    Send ...  \n",
       "1  Senior Frontend De_21106      Senior Frontend ...  \n",
       "2  Sr Software Develo_2360    Are you interested ...  \n",
       "3  Head of Compliance_97878     Apply now To lead...  \n",
       "4  Customer Service R_141060       Inteligente So...  "
      ]
     },
     "execution_count": 43,
     "metadata": {},
     "output_type": "execute_result"
    }
   ],
   "source": [
    "df.head()"
   ]
  },
  {
   "cell_type": "code",
   "execution_count": 44,
   "metadata": {},
   "outputs": [],
   "source": [
    "df['jd'] = df['jd'].apply(nfx.remove_emails)\n",
    "df['jd'] = df['jd'].apply(nfx.remove_phone_numbers)\n",
    "df['jd'] = df['jd'].str.replace('()','').str.replace('-','')\n",
    "df['jd'] = df['jd'].apply(nfx.remove_numbers).apply(nfx.remove_stopwords).apply(nfx.remove_special_characters)"
   ]
  },
  {
   "cell_type": "code",
   "execution_count": 45,
   "metadata": {},
   "outputs": [],
   "source": [
    "df['jd'] = df['jd'].str.lower()\n",
    "df['jd'] = df['jd'].apply(nfx.remove_stopwords).apply(nfx.remove_non_ascii)\n",
    "df['jd'] = df['jd'].apply(nfx.remove_emails).apply(nfx.remove_currency_symbols).apply(nfx.remove_punctuations)"
   ]
  },
  {
   "cell_type": "code",
   "execution_count": 46,
   "metadata": {},
   "outputs": [],
   "source": [
    "df['jd'] = df['jd'].str.replace('Apply', '').str.replace('apply', '')\n",
    "df['jd'] = df['jd'].str.replace('Job', '').str.replace('job', '').str.replace('Description', '').str.replace('description', '').str.replace('Classification', '')"
   ]
  },
  {
   "cell_type": "code",
   "execution_count": 47,
   "metadata": {},
   "outputs": [
    {
     "data": {
      "text/html": [
       "<div>\n",
       "<style scoped>\n",
       "    .dataframe tbody tr th:only-of-type {\n",
       "        vertical-align: middle;\n",
       "    }\n",
       "\n",
       "    .dataframe tbody tr th {\n",
       "        vertical-align: top;\n",
       "    }\n",
       "\n",
       "    .dataframe thead th {\n",
       "        text-align: right;\n",
       "    }\n",
       "</style>\n",
       "<table border=\"1\" class=\"dataframe\">\n",
       "  <thead>\n",
       "    <tr style=\"text-align: right;\">\n",
       "      <th></th>\n",
       "      <th>Unnamed: 0</th>\n",
       "      <th>filename</th>\n",
       "      <th>job_desc</th>\n",
       "      <th>jd</th>\n",
       "    </tr>\n",
       "  </thead>\n",
       "  <tbody>\n",
       "    <tr>\n",
       "      <th>0</th>\n",
       "      <td>0</td>\n",
       "      <td>NOC Engineer_64709</td>\n",
       "      <td>Job Description    Send me Jobs like this J...</td>\n",
       "      <td>noc engineer   send s like   noc engineer remo...</td>\n",
       "    </tr>\n",
       "    <tr>\n",
       "      <th>1</th>\n",
       "      <td>1</td>\n",
       "      <td>Senior Frontend De_21106</td>\n",
       "      <td>Senior Frontend Developer JavascriptThis ...</td>\n",
       "      <td>senior frontend de senior frontend developer j...</td>\n",
       "    </tr>\n",
       "    <tr>\n",
       "      <th>2</th>\n",
       "      <td>2</td>\n",
       "      <td>Sr Software Develo_2360</td>\n",
       "      <td>Are you interested in building an amazing r...</td>\n",
       "      <td>sr software develo interested building amazing...</td>\n",
       "    </tr>\n",
       "    <tr>\n",
       "      <th>3</th>\n",
       "      <td>3</td>\n",
       "      <td>Head of Compliance_97878</td>\n",
       "      <td>Apply now To lead the Bank   s Compliance ...</td>\n",
       "      <td>head compliance  lead bank compliance anti fin...</td>\n",
       "    </tr>\n",
       "    <tr>\n",
       "      <th>4</th>\n",
       "      <td>4</td>\n",
       "      <td>Customer Service R_141060</td>\n",
       "      <td>Inteligente Solutions offers excellent e...</td>\n",
       "      <td>customer service r inteligente solutions offer...</td>\n",
       "    </tr>\n",
       "  </tbody>\n",
       "</table>\n",
       "</div>"
      ],
      "text/plain": [
       "   Unnamed: 0                   filename  \\\n",
       "0           0         NOC Engineer_64709   \n",
       "1           1   Senior Frontend De_21106   \n",
       "2           2    Sr Software Develo_2360   \n",
       "3           3   Head of Compliance_97878   \n",
       "4           4  Customer Service R_141060   \n",
       "\n",
       "                                            job_desc  \\\n",
       "0     Job Description    Send me Jobs like this J...   \n",
       "1       Senior Frontend Developer JavascriptThis ...   \n",
       "2     Are you interested in building an amazing r...   \n",
       "3      Apply now To lead the Bank   s Compliance ...   \n",
       "4        Inteligente Solutions offers excellent e...   \n",
       "\n",
       "                                                  jd  \n",
       "0  noc engineer   send s like   noc engineer remo...  \n",
       "1  senior frontend de senior frontend developer j...  \n",
       "2  sr software develo interested building amazing...  \n",
       "3  head compliance  lead bank compliance anti fin...  \n",
       "4  customer service r inteligente solutions offer...  "
      ]
     },
     "execution_count": 47,
     "metadata": {},
     "output_type": "execute_result"
    }
   ],
   "source": [
    "df.head()"
   ]
  },
  {
   "cell_type": "code",
   "execution_count": 48,
   "metadata": {},
   "outputs": [
    {
     "name": "stderr",
     "output_type": "stream",
     "text": [
      "[nltk_data] Downloading package punkt to\n",
      "[nltk_data]     C:\\Users\\Atul\\AppData\\Roaming\\nltk_data...\n",
      "[nltk_data]   Package punkt is already up-to-date!\n",
      "[nltk_data] Downloading package averaged_perceptron_tagger to\n",
      "[nltk_data]     C:\\Users\\Atul\\AppData\\Roaming\\nltk_data...\n",
      "[nltk_data]   Package averaged_perceptron_tagger is already up-to-\n",
      "[nltk_data]       date!\n",
      "[nltk_data] Downloading package wordnet to\n",
      "[nltk_data]     C:\\Users\\Atul\\AppData\\Roaming\\nltk_data...\n",
      "[nltk_data]   Package wordnet is already up-to-date!\n",
      "[nltk_data] Downloading package stopwords to\n",
      "[nltk_data]     C:\\Users\\Atul\\AppData\\Roaming\\nltk_data...\n",
      "[nltk_data]   Package stopwords is already up-to-date!\n"
     ]
    }
   ],
   "source": [
    "import nltk \n",
    "nltk.download('punkt') \n",
    "nltk.download('averaged_perceptron_tagger') \n",
    "nltk.download('wordnet') \n",
    "  \n",
    "  \n",
    "from nltk.stem import WordNetLemmatizer \n",
    "lemmatizer = WordNetLemmatizer() \n",
    "  \n",
    "from nltk.corpus import stopwords \n",
    "nltk.download('stopwords') \n",
    "stop_words = set(stopwords.words('english')) \n",
    "  \n",
    "VERB_CODES = {'VB', 'VBD', 'VBG', 'VBN', 'VBP', 'VBZ'} "
   ]
  },
  {
   "cell_type": "code",
   "execution_count": 49,
   "metadata": {},
   "outputs": [
    {
     "data": {
      "text/plain": [
       "'noc engineer   send s like   noc engineer remoc engineer provide x monitoring support infrastructure devices like network device servers applications operations incident alert management outage handling principle responsibilities x infrastructural monitoring monitoring process adherence outageincident handling management lead troubleshooting bridge right support group resolve incident follow rca manage internal notification roll planned unplanned change requests maintenance provide time reports bandwidth reports etc monitoring tool documentation monitor inventory update visio management key skills worked monitoring tools like solarwinds scom preferable server knowledge dns dhcp ad etc knowledge osi model tcpip snmp smtp http ftp tftp rdp telnet ssh basic troubleshooting network devices server hardware level troubleshooting certification ccna mcse sql understanding itil concepts certification itil preferable interested candidate inbox updated resume mentioned details current ctc expected ctc notice period note looking candidate join immediate basis days contact details landline mob mrajputfcsltdcom follow twitter rajputmanikant linkedin httpbitlyjtf salary disclosed recruiter industry itsoftware software services functional area software application programming maintenance role categoryadminmaintenancesecuritydatawarehousing rolenetwork administrator keyskills ccna networking osi model ip tftp smtp dns dhcp monitoring solarwinds scom troubleshooting desired candidate profile education ug graduate specialization graduation required pgany postgraduate specialization post graduation required doctorateany doctorate specialization doctorate required refer   company profile fcs software solutions limited fcs leading provider services past decade existence fcs carved niche core areas like elearning digital content services resource staffing bpo product engineering services business innovator fcs helps clients achieve extraordinary results customer relationships business operations technology clients choose fcs impact achieve commitment success straightforward collaborative way work customers list include medidata canon merck samsung tcs axalta coating systems fortune companies annual rd scorecard companies world european unions executive body european commission ec ranked fcs software solutions th indian firms stateofthe art facilities based noida chandigarh dehradun running x continuous growth possible result livewire energetic focused workforce highly competent professionals worked extensively areas application development support elearning solutions business infrastructure management bpo details click wwwfcsltdcom download ppt photo view contact details'"
      ]
     },
     "execution_count": 49,
     "metadata": {},
     "output_type": "execute_result"
    }
   ],
   "source": [
    "len(df) \n",
    "  \n",
    "finaldata = df[[\"filename\", \"jd\"]]          # Required columns - Title and combined data  \n",
    "finaldata = finaldata.set_index('filename')    # Setting the job title title as index \n",
    "  \n",
    "finaldata.head(10) \n",
    "finaldata[\"jd\"][0] "
   ]
  },
  {
   "cell_type": "code",
   "execution_count": 50,
   "metadata": {},
   "outputs": [
    {
     "data": {
      "text/plain": [
       "(1006, 1)"
      ]
     },
     "execution_count": 50,
     "metadata": {},
     "output_type": "execute_result"
    }
   ],
   "source": [
    "finaldata.shape"
   ]
  },
  {
   "cell_type": "code",
   "execution_count": 51,
   "metadata": {},
   "outputs": [
    {
     "data": {
      "text/html": [
       "<div>\n",
       "<style scoped>\n",
       "    .dataframe tbody tr th:only-of-type {\n",
       "        vertical-align: middle;\n",
       "    }\n",
       "\n",
       "    .dataframe tbody tr th {\n",
       "        vertical-align: top;\n",
       "    }\n",
       "\n",
       "    .dataframe thead th {\n",
       "        text-align: right;\n",
       "    }\n",
       "</style>\n",
       "<table border=\"1\" class=\"dataframe\">\n",
       "  <thead>\n",
       "    <tr style=\"text-align: right;\">\n",
       "      <th></th>\n",
       "      <th>jd</th>\n",
       "      <th>jd_processed</th>\n",
       "    </tr>\n",
       "    <tr>\n",
       "      <th>filename</th>\n",
       "      <th></th>\n",
       "      <th></th>\n",
       "    </tr>\n",
       "  </thead>\n",
       "  <tbody>\n",
       "    <tr>\n",
       "      <th>NOC Engineer_64709</th>\n",
       "      <td>noc engineer   send s like   noc engineer remo...</td>\n",
       "      <td>noc engineer send like noc engineer remoc engi...</td>\n",
       "    </tr>\n",
       "    <tr>\n",
       "      <th>Senior Frontend De_21106</th>\n",
       "      <td>senior frontend de senior frontend developer j...</td>\n",
       "      <td>senior frontend de senior frontend developer j...</td>\n",
       "    </tr>\n",
       "    <tr>\n",
       "      <th>Sr Software Develo_2360</th>\n",
       "      <td>sr software develo interested building amazing...</td>\n",
       "      <td>sr software develo interested building amaze r...</td>\n",
       "    </tr>\n",
       "    <tr>\n",
       "      <th>Head of Compliance_97878</th>\n",
       "      <td>head compliance  lead bank compliance anti fin...</td>\n",
       "      <td>head compliance lead bank compliance anti fina...</td>\n",
       "    </tr>\n",
       "    <tr>\n",
       "      <th>Customer Service R_141060</th>\n",
       "      <td>customer service r inteligente solutions offer...</td>\n",
       "      <td>customer service r inteligente solution offer ...</td>\n",
       "    </tr>\n",
       "  </tbody>\n",
       "</table>\n",
       "</div>"
      ],
      "text/plain": [
       "                                                                          jd  \\\n",
       "filename                                                                       \n",
       "NOC Engineer_64709         noc engineer   send s like   noc engineer remo...   \n",
       "Senior Frontend De_21106   senior frontend de senior frontend developer j...   \n",
       "Sr Software Develo_2360    sr software develo interested building amazing...   \n",
       "Head of Compliance_97878   head compliance  lead bank compliance anti fin...   \n",
       "Customer Service R_141060  customer service r inteligente solutions offer...   \n",
       "\n",
       "                                                                jd_processed  \n",
       "filename                                                                      \n",
       "NOC Engineer_64709         noc engineer send like noc engineer remoc engi...  \n",
       "Senior Frontend De_21106   senior frontend de senior frontend developer j...  \n",
       "Sr Software Develo_2360    sr software develo interested building amaze r...  \n",
       "Head of Compliance_97878   head compliance lead bank compliance anti fina...  \n",
       "Customer Service R_141060  customer service r inteligente solution offer ...  "
      ]
     },
     "execution_count": 51,
     "metadata": {},
     "output_type": "execute_result"
    }
   ],
   "source": [
    "#takes few min\n",
    "def preprocess_sentences(text): \n",
    "  text = text.lower() \n",
    "  temp_sent =[] \n",
    "  words = nltk.word_tokenize(text) \n",
    "  tags = nltk.pos_tag(words) \n",
    "  for i, word in enumerate(words): \n",
    "      if tags[i][1] in VERB_CODES:  \n",
    "          lemmatized = lemmatizer.lemmatize(word, 'v') \n",
    "      else: \n",
    "          lemmatized = lemmatizer.lemmatize(word) \n",
    "      if lemmatized not in stop_words and lemmatized.isalpha(): \n",
    "          temp_sent.append(lemmatized) \n",
    "          \n",
    "  finalsent = ' '.join(temp_sent) \n",
    "  finalsent = finalsent.replace(\"n't\", \" not\") \n",
    "  finalsent = finalsent.replace(\"'m\", \" am\") \n",
    "  finalsent = finalsent.replace(\"'s\", \" is\") \n",
    "  finalsent = finalsent.replace(\"'re\", \" are\") \n",
    "  finalsent = finalsent.replace(\"'ll\", \" will\") \n",
    "  finalsent = finalsent.replace(\"'ve\", \" have\") \n",
    "  finalsent = finalsent.replace(\"'d\", \" would\") \n",
    "  return finalsent \n",
    "  \n",
    "finaldata[\"jd_processed\"]= finaldata[\"jd\"].apply(preprocess_sentences) \n",
    "finaldata.head() "
   ]
  },
  {
   "cell_type": "code",
   "execution_count": null,
   "metadata": {},
   "outputs": [],
   "source": [
    "#we can use this according to data that how much clean final data is\n",
    "#import re\n",
    "#remove_less = lambda x: re.sub(r'\\b\\w{​​1,4}​​\\b', '', x)\n",
    "#finaldata[\"resume_processed\"]= finaldata[\"resume\"].apply(remove_less)"
   ]
  },
  {
   "cell_type": "code",
   "execution_count": 52,
   "metadata": {},
   "outputs": [],
   "source": [
    "from sklearn.feature_extraction.text import TfidfVectorizer \n",
    "  \n",
    "# Vectorizing pre-processed combo using TF-IDF \n",
    "tfidfvec = TfidfVectorizer() \n",
    "tfidf_job = tfidfvec.fit_transform((finaldata[\"jd_processed\"])) "
   ]
  },
  {
   "cell_type": "code",
   "execution_count": 53,
   "metadata": {},
   "outputs": [
    {
     "data": {
      "text/plain": [
       "TfidfVectorizer(analyzer='word', binary=False, decode_error='strict',\n",
       "                dtype=<class 'numpy.float64'>, encoding='utf-8',\n",
       "                input='content', lowercase=True, max_df=1.0, max_features=None,\n",
       "                min_df=1, ngram_range=(1, 1), norm='l2', preprocessor=None,\n",
       "                smooth_idf=True, stop_words=None, strip_accents=None,\n",
       "                sublinear_tf=False, token_pattern='(?u)\\\\b\\\\w\\\\w+\\\\b',\n",
       "                tokenizer=None, use_idf=True, vocabulary=None)"
      ]
     },
     "execution_count": 53,
     "metadata": {},
     "output_type": "execute_result"
    }
   ],
   "source": [
    "tfidfvec"
   ]
  },
  {
   "cell_type": "code",
   "execution_count": 54,
   "metadata": {},
   "outputs": [
    {
     "data": {
      "text/plain": [
       "<1006x16322 sparse matrix of type '<class 'numpy.float64'>'\n",
       "\twith 112470 stored elements in Compressed Sparse Row format>"
      ]
     },
     "execution_count": 54,
     "metadata": {},
     "output_type": "execute_result"
    }
   ],
   "source": [
    "tfidf_job"
   ]
  },
  {
   "cell_type": "code",
   "execution_count": 55,
   "metadata": {},
   "outputs": [
    {
     "data": {
      "text/plain": [
       "(1006, 16322)"
      ]
     },
     "execution_count": 55,
     "metadata": {},
     "output_type": "execute_result"
    }
   ],
   "source": [
    "tfidf_job.shape"
   ]
  },
  {
   "cell_type": "code",
   "execution_count": 56,
   "metadata": {},
   "outputs": [],
   "source": [
    "# Finding cosine similarity between vectors \n",
    "from sklearn.metrics.pairwise import cosine_similarity \n",
    "cos_sim = cosine_similarity(tfidf_job, tfidf_job)"
   ]
  },
  {
   "cell_type": "code",
   "execution_count": 58,
   "metadata": {},
   "outputs": [],
   "source": [
    "# Storing indices of the data \n",
    "indices = pd.Series(finaldata.index) \n",
    "  \n",
    "def recommendations(title, cosine_sim = cos_sim): \n",
    "    recommended_job = [] \n",
    "    index = indices[indices == title].index[0] \n",
    "    similarity_scores = pd.Series(cosine_sim[index]).sort_values(ascending = False) \n",
    "    top_10_jobs = list(similarity_scores.iloc[1:11].index) \n",
    "    for i in top_10_jobs: \n",
    "        recommended_job.append(list(finaldata.index)[i]) \n",
    "    return recommended_job "
   ]
  },
  {
   "cell_type": "markdown",
   "metadata": {},
   "source": [
    "# Given JD TO SIMILAR JD"
   ]
  },
  {
   "cell_type": "code",
   "execution_count": 60,
   "metadata": {},
   "outputs": [
    {
     "data": {
      "text/plain": [
       "['NOC Engineer_31706',\n",
       " 'Operation Engineer_75160',\n",
       " 'Network Engineer_28249',\n",
       " 'IT Tech Services L_37442',\n",
       " 'Senior IT Network_56504',\n",
       " 'Systems Administra_62569',\n",
       " 'Opportunity for We_58589',\n",
       " 'Hiring Freshers H_60844',\n",
       " 'French Service des_62106',\n",
       " 'IT Manager_93204']"
      ]
     },
     "execution_count": 60,
     "metadata": {},
     "output_type": "execute_result"
    }
   ],
   "source": [
    "#recommendation sample 1\n",
    "recommendations(\"NOC Engineer_64709\")"
   ]
  },
  {
   "cell_type": "code",
   "execution_count": 61,
   "metadata": {},
   "outputs": [
    {
     "data": {
      "text/plain": [
       "['Job Opening HCL T_60528',\n",
       " 'Systems Administra_27390',\n",
       " 'Java Developer Web_21176',\n",
       " 'SQL DBA Database_93468',\n",
       " 'Operation Engineer_75160',\n",
       " 'Infrastructure Arc_29292',\n",
       " 'IT Manager_93204',\n",
       " 'Hiring TFS Profess_69518',\n",
       " 'SystemC  ESL_62276',\n",
       " 'Systems Administra_18740']"
      ]
     },
     "execution_count": 61,
     "metadata": {},
     "output_type": "execute_result"
    }
   ],
   "source": [
    "#recommendation sample 2\n",
    "recommendations(\"Systems Administra_62569\")"
   ]
  },
  {
   "cell_type": "code",
   "execution_count": 62,
   "metadata": {},
   "outputs": [
    {
     "data": {
      "text/plain": [
       "['Risk Regulation A_86673',\n",
       " 'FX trading company_86038',\n",
       " 'Quality Assurance_11456',\n",
       " 'Senior Accountant_130354',\n",
       " 'Qualiy Assurance M_117616',\n",
       " 'Product Safety Spe_55386',\n",
       " 'Information Securi_27272',\n",
       " 'Financial Analyst_129129',\n",
       " 'Biomedical Enginee_17883',\n",
       " 'Controls and Audit_84344']"
      ]
     },
     "execution_count": 62,
     "metadata": {},
     "output_type": "execute_result"
    }
   ],
   "source": [
    "#recommendation sample 3\n",
    "recommendations(\"Head of Compliance_97878\")"
   ]
  },
  {
   "cell_type": "code",
   "execution_count": 63,
   "metadata": {},
   "outputs": [
    {
     "data": {
      "text/plain": [
       "['Java Developer_120742',\n",
       " 'Systems Administra_27390',\n",
       " 'Infrastructure Arc_29292',\n",
       " 'Systems Administra_62569',\n",
       " 'Application Develo_32294',\n",
       " 'SQL DBA Database_93468',\n",
       " 'Sr Java Developer_29497',\n",
       " 'Java Developer_31216',\n",
       " 'Manager Software D_20101',\n",
       " 'PHP Developer LAM_24842']"
      ]
     },
     "execution_count": 63,
     "metadata": {},
     "output_type": "execute_result"
    }
   ],
   "source": [
    "#recommendation sample 4\n",
    "recommendations(\"Java Developer Web_21176\")"
   ]
  },
  {
   "cell_type": "code",
   "execution_count": 64,
   "metadata": {},
   "outputs": [
    {
     "data": {
      "text/plain": [
       "['PHP Developer_34603',\n",
       " 'Web Developer PHP_62805',\n",
       " 'Lead Java Develope_32446',\n",
       " 'Application Develo_32294',\n",
       " 'Technical Architec_73887',\n",
       " 'SEO Content Execut_83208',\n",
       " 'UX DesignerDevelop_20644',\n",
       " 'Java Developer Web_21176',\n",
       " 'C Java SQL_35834',\n",
       " 'Java Developer_120742']"
      ]
     },
     "execution_count": 64,
     "metadata": {},
     "output_type": "execute_result"
    }
   ],
   "source": [
    "#recommendation sample 5\n",
    "recommendations(\"PHP Developer LAM_24842\")"
   ]
  },
  {
   "cell_type": "code",
   "execution_count": null,
   "metadata": {},
   "outputs": [],
   "source": []
  }
 ],
 "metadata": {
  "kernelspec": {
   "display_name": "Python 3",
   "language": "python",
   "name": "python3"
  },
  "language_info": {
   "codemirror_mode": {
    "name": "ipython",
    "version": 3
   },
   "file_extension": ".py",
   "mimetype": "text/x-python",
   "name": "python",
   "nbconvert_exporter": "python",
   "pygments_lexer": "ipython3",
   "version": "3.7.6"
  }
 },
 "nbformat": 4,
 "nbformat_minor": 4
}
